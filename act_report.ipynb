{
 "cells": [
  {
   "cell_type": "markdown",
   "id": "d11a58a3",
   "metadata": {},
   "source": [
    "# Analysis and Visualizations Report"
   ]
  },
  {
   "cell_type": "markdown",
   "id": "8eb66192",
   "metadata": {},
   "source": [
    "## Introduction\n",
    "\n",
    "> This report details the procedures followed in analysing our data, the insights gained and the visualizations that go along with them."
   ]
  },
  {
   "cell_type": "markdown",
   "id": "de138d84",
   "metadata": {},
   "source": [
    "## Methodology\n",
    "\n",
    "> After inspecting our cleaned data to gain perspective, 4 research questions were formulated and the analysis that followed were to answer these questions. In this report, we will follow the analysis process, explain the insights gained, and show visualizations where applicable."
   ]
  },
  {
   "cell_type": "markdown",
   "id": "485d2a48",
   "metadata": {},
   "source": [
    "## Research Question 1:\n",
    "\n",
    "> How is the rating score distributed across the observed dog stages?"
   ]
  },
  {
   "cell_type": "markdown",
   "id": "b59224d2",
   "metadata": {},
   "source": [
    "### Process"
   ]
  },
  {
   "cell_type": "markdown",
   "id": "7d9b8c5f",
   "metadata": {},
   "source": [
    "<ol>\n",
    "    <li>Create a new rating column by dividing the rating numerator by the rating denominator</li>\n",
    "    <li>Concatenate the new rating column and the dog stage column and store in a new dataframe rated_categories</li>\n",
    "    <li>Inspect dataframe to ensure no errors are present</li>\n",
    "    <li>Use the value_counts method setting the normalize argument to true, to get the proportion of dogs per stage</li>\n",
    "    <li>Construct a bar plot of dog stages vs rating</li>\n",
    "    <li>The means of the rating per stage are roughly equal, so we conduct a hypothesis test to ensure whether the underlying distributions are the same. The Kruskal-Wallis Test is used to compensate for the insufficient number of samples in the poppo, multiple and floofer stages, setting the significance level to 0.05</li>\n",
    "    <li>Interpret result of hypothesis test and draw conclusion.</li>\n",
    "</ol>"
   ]
  },
  {
   "cell_type": "markdown",
   "id": "84ec21ee",
   "metadata": {},
   "source": [
    "### Insights\n",
    "\n",
    "<ol>\n",
    "    <li>We observed that most of the dogs rated are in the pupper stage.</li>\n",
    "    <li>The puppo and floofer stages have the highest mean rating.</li>\n",
    "    <li>Given that the p-unc value is less than our significance level, the Kruskal–Wallis Test suggests that given the data at hand we reject the null hypothesis, and assume the ratings across the 5 stages are distributed differently.</li>\n",
    "</ol>"
   ]
  },
  {
   "cell_type": "markdown",
   "id": "31887b29",
   "metadata": {},
   "source": [
    "### Visualization"
   ]
  },
  {
   "cell_type": "markdown",
   "id": "28699cdc",
   "metadata": {},
   "source": [
    "<img src='Visualizations/Mean_Rating_across_Dog_Stages.png'>"
   ]
  },
  {
   "cell_type": "markdown",
   "id": "741d864a",
   "metadata": {},
   "source": [
    "## Research Question 2:\n",
    "\n",
    "> How have the mean ratings varied across the years?"
   ]
  },
  {
   "cell_type": "markdown",
   "id": "72ef0cc1",
   "metadata": {},
   "source": [
    "### Process"
   ]
  },
  {
   "cell_type": "markdown",
   "id": "a71b1aa9",
   "metadata": {},
   "source": [
    "<ol>\n",
    "    <li>Get the earliest and latest dates in the timestamp column to know the full time period we are working with</li>\n",
    "    <li>Create a new dataframe df_time_series from the timestamp and rating columns</li>\n",
    "    <li>Set the index of the dataframe to timestamp</li>\n",
    "    <li>Resample the dataframe over a quarterly period and aggregate the ratings using the mean</li>\n",
    "    <li>Construct a line plot using the resampled dataframe to show quarterly trend of the mean ratings</li>\n",
    "    <li>Interpret the visualization.</li>\n",
    "</ol>"
   ]
  },
  {
   "cell_type": "markdown",
   "id": "b1d8cea3",
   "metadata": {},
   "source": [
    "### Insight\n",
    "\n",
    "1. From the visualization, we see that the 2017-07 to 2017-10 period saw dogs receive the highest ratings on average.\n",
    "\n",
    "2. There is an increasing trend in the ratings received from 2016-01 to 2017-10."
   ]
  },
  {
   "cell_type": "markdown",
   "id": "e5e4d2b7",
   "metadata": {},
   "source": [
    "### Visualization"
   ]
  },
  {
   "cell_type": "markdown",
   "id": "77b7d3f8",
   "metadata": {},
   "source": [
    "<img src='Visualizations/Mean_Quarterly_Ratings.png'>"
   ]
  },
  {
   "cell_type": "markdown",
   "id": "60d486d9",
   "metadata": {},
   "source": [
    "## Research Question 3:\n",
    "\n",
    "> For high and low confidence levels, which of the neural networks 3 predictions have a higher proportion of success?"
   ]
  },
  {
   "cell_type": "markdown",
   "id": "72258d6d",
   "metadata": {},
   "source": [
    "### Process"
   ]
  },
  {
   "cell_type": "markdown",
   "id": "ea1c0623",
   "metadata": {},
   "source": [
    "<ol>\n",
    "    <li>Create a dataframe per prediction, with two columns containing the confidence and correctness of the prediction</li>\n",
    "    <li>After creating three dataframes to store the three predictions, we designate a confidence level of 0.5 or greater as high confidence and all others as low confidence predictions, and transform the confidence columns accordingly.</li>\n",
    "    <li>Obtain the number of high and low confidence predictions for dataframe</li>\n",
    "    <li>Group by the confidence level and calculate the accuracy level per group.</li>\n",
    "    <li>Calculate the accuracy level without grouping by confidence level.</li>\n",
    "</ol>"
   ]
  },
  {
   "cell_type": "markdown",
   "id": "4a3fc8da",
   "metadata": {},
   "source": [
    "### Insight\n",
    "\n",
    "1. We see that the first prediction has high confidence 63.27% of the time while the other two are all low confidence.\n",
    "\n",
    "2. The second predicts most accurately, with a success rate of 76.39%."
   ]
  },
  {
   "cell_type": "markdown",
   "id": "21d4d361",
   "metadata": {},
   "source": [
    "## Research Question 4:\n",
    "\n",
    "> What is the relationship between display text length and retweet and favorite counts?"
   ]
  },
  {
   "cell_type": "markdown",
   "id": "a07efb7a",
   "metadata": {},
   "source": [
    "### Process"
   ]
  },
  {
   "cell_type": "markdown",
   "id": "d13103ff",
   "metadata": {},
   "source": [
    "<ol>\n",
    "    <li>Construct a dataframe df_popularity containing the display_text_length and the retweets plus favorite counts.</li>\n",
    "    <li>Use the describe method to obtain statistical information on the columns.</li>\n",
    "    <li>Plot histograms of the two columns to visualize their disributions.</li>\n",
    "    <li>Construct a scatter plot of display text length vs retweets plus favorites count to visualize their relationship</li>\n",
    "    <li>Compute the correlation between the two features.</li>\n",
    "</ol>"
   ]
  },
  {
   "cell_type": "markdown",
   "id": "834819c7",
   "metadata": {},
   "source": [
    "### Insight\n",
    "\n",
    "1. From the scatter plot and correlation values, we see that display text length hardly affects the popularity of the tweets."
   ]
  },
  {
   "cell_type": "markdown",
   "id": "55808933",
   "metadata": {},
   "source": [
    "### Visualizations"
   ]
  },
  {
   "cell_type": "markdown",
   "id": "dd14bbf1",
   "metadata": {},
   "source": [
    "<img src='Visualizations/Display_Text_Length_Histogram.png'>\n",
    "\n",
    "\n",
    "<img src='Visualizations/Retweets_Plus_Favorites_Histogram.png'>\n",
    "\n",
    "\n",
    "<img src='Visualizations/Scatter_Plot_of_Display_Text_Length_vs_Retweets_Plus_Favorites.png'>"
   ]
  }
 ],
 "metadata": {
  "kernelspec": {
   "display_name": "Python 3 (ipykernel)",
   "language": "python",
   "name": "python3"
  },
  "language_info": {
   "codemirror_mode": {
    "name": "ipython",
    "version": 3
   },
   "file_extension": ".py",
   "mimetype": "text/x-python",
   "name": "python",
   "nbconvert_exporter": "python",
   "pygments_lexer": "ipython3",
   "version": "3.8.12"
  }
 },
 "nbformat": 4,
 "nbformat_minor": 5
}
