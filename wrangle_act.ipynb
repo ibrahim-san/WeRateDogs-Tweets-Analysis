{
 "cells": [
  {
   "cell_type": "markdown",
   "metadata": {
    "extensions": {
     "jupyter_dashboards": {
      "version": 1,
      "views": {
       "grid_default": {
        "col": 0,
        "height": 4,
        "hidden": false,
        "row": 0,
        "width": 4
       },
       "report_default": {
        "hidden": false
       }
      }
     }
    }
   },
   "source": [
    "# Project: Wrangling and Analyze Data"
   ]
  },
  {
   "cell_type": "markdown",
   "metadata": {},
   "source": [
    "## Import Statements"
   ]
  },
  {
   "cell_type": "code",
   "execution_count": 1,
   "metadata": {},
   "outputs": [],
   "source": [
    "import pandas as pd\n",
    "import numpy as np\n",
    "import matplotlib.pyplot as plt\n",
    "import seaborn as sns\n",
    "import requests\n",
    "import tweepy\n",
    "import os\n",
    "%matplotlib inline\n",
    "from timeit import default_timer as timer\n",
    "import pingouin"
   ]
  },
  {
   "cell_type": "markdown",
   "metadata": {},
   "source": [
    "## Data Gathering\n",
    "\n",
    "1. Directly download the WeRateDogs Twitter archive data (twitter_archive_enhanced.csv)"
   ]
  },
  {
   "cell_type": "code",
   "execution_count": 2,
   "metadata": {
    "extensions": {
     "jupyter_dashboards": {
      "version": 1,
      "views": {
       "grid_default": {
        "hidden": true
       },
       "report_default": {
        "hidden": true
       }
      }
     }
    }
   },
   "outputs": [],
   "source": [
    "df_archive = pd.read_csv('twitter-archive-enhanced.csv')"
   ]
  },
  {
   "cell_type": "markdown",
   "metadata": {},
   "source": [
    "2. Use the Requests library to download the tweet image prediction (image_predictions.tsv)"
   ]
  },
  {
   "cell_type": "code",
   "execution_count": 3,
   "metadata": {},
   "outputs": [],
   "source": [
    "predictions_file = 'image-predictions.tsv'\n",
    "\n",
    "if os.path.isfile(predictions_file) is False:\n",
    "    \n",
    "    response = requests.get('https://d17h27t6h515a5.cloudfront.net/topher/2017/August/599fd2ad_image-predictions/image-predictions.tsv')\n",
    "    with open(predictions_file, mode='wb') as file:\n",
    "        file.write(response.content)\n",
    "    \n",
    "df_image = pd.read_csv(predictions_file, sep='\\t')"
   ]
  },
  {
   "cell_type": "markdown",
   "metadata": {},
   "source": [
    "3. Use the Tweepy library to query additional data via the Twitter API (tweet_json.txt)"
   ]
  },
  {
   "cell_type": "code",
   "execution_count": 4,
   "metadata": {},
   "outputs": [
    {
     "data": {
      "text/plain": [
       "2356"
      ]
     },
     "execution_count": 4,
     "metadata": {},
     "output_type": "execute_result"
    }
   ],
   "source": [
    "tweet_ids = df_archive.tweet_id.values\n",
    "len(tweet_ids)"
   ]
  },
  {
   "cell_type": "code",
   "execution_count": 5,
   "metadata": {},
   "outputs": [],
   "source": [
    "def get_lines(file, line_numbers):\n",
    "    return (x for i, x in enumerate(file) if i in line_numbers)"
   ]
  },
  {
   "cell_type": "code",
   "execution_count": 6,
   "metadata": {},
   "outputs": [],
   "source": [
    "tweets_file = 'tweet_json.txt'\n",
    "\n",
    "if os.path.isfile(tweets_file) is False:\n",
    "    \n",
    "    with open('TwitterAPI.txt', mode='r') as file:\n",
    "        \n",
    "        lines = get_lines(file, [1, 2, 3, 4])\n",
    "        counter = 1\n",
    "        for line in lines:\n",
    "            if counter == 1:\n",
    "                consumer_key = line.split('_')[1].strip()\n",
    "            if counter == 2:\n",
    "                consumer_secret = line.split('_')[1].strip()\n",
    "            if counter == 3:\n",
    "                access_token = line.split('_')[1].strip()\n",
    "            if counter == 4:\n",
    "                access_secret = line.split('_')[1].strip()\n",
    "            counter += 1\n",
    "        \n",
    "    auth = tweepy.OAuthHandler(consumer_key, consumer_secret)\n",
    "    auth.set_access_token(access_token, access_secret)\n",
    "    \n",
    "    api = tweepy.API(auth, wait_on_rate_limit=True)\n",
    "    \n",
    "    fails_dict = {}\n",
    "    start = timer()\n",
    "    count = 0\n",
    "    \n",
    "    with open(tweets_file, 'w') as outfile:\n",
    "        for tweet_id in tweet_ids:\n",
    "            count += 1\n",
    "            print(str(count) + \": \" + str(tweet_id))\n",
    "            try:\n",
    "                tweet = api.get_status(tweet_id, tweet_mode='extended')\n",
    "                print(\"Success\")\n",
    "                json.dump(tweet._json, outfile)\n",
    "                outfile.write('\\n')\n",
    "            except tweepy.TweepyException as e:\n",
    "                print(\"Fail\")\n",
    "                print(e)\n",
    "                fails_dict[tweet_id] = e\n",
    "                pass\n",
    "    end = timer()\n",
    "    print(end - start)\n",
    "    print(fails_dict)"
   ]
  },
  {
   "cell_type": "code",
   "execution_count": 7,
   "metadata": {},
   "outputs": [],
   "source": [
    "df_tweets = pd.read_json('tweet_json.txt', convert_dates=True, lines=True)"
   ]
  },
  {
   "cell_type": "markdown",
   "metadata": {
    "extensions": {
     "jupyter_dashboards": {
      "version": 1,
      "views": {
       "grid_default": {
        "col": 4,
        "height": 4,
        "hidden": false,
        "row": 28,
        "width": 4
       },
       "report_default": {
        "hidden": false
       }
      }
     }
    }
   },
   "source": [
    "## Assessing Data\n"
   ]
  },
  {
   "cell_type": "code",
   "execution_count": 8,
   "metadata": {},
   "outputs": [
    {
     "data": {
      "text/plain": [
       "(2356, 17)"
      ]
     },
     "execution_count": 8,
     "metadata": {},
     "output_type": "execute_result"
    }
   ],
   "source": [
    "df_archive.shape"
   ]
  },
  {
   "cell_type": "code",
   "execution_count": 9,
   "metadata": {},
   "outputs": [
    {
     "data": {
      "text/plain": [
       "(2075, 12)"
      ]
     },
     "execution_count": 9,
     "metadata": {},
     "output_type": "execute_result"
    }
   ],
   "source": [
    "df_image.shape"
   ]
  },
  {
   "cell_type": "code",
   "execution_count": 10,
   "metadata": {},
   "outputs": [
    {
     "data": {
      "text/plain": [
       "(2327, 32)"
      ]
     },
     "execution_count": 10,
     "metadata": {},
     "output_type": "execute_result"
    }
   ],
   "source": [
    "df_tweets.shape"
   ]
  },
  {
   "cell_type": "code",
   "execution_count": 11,
   "metadata": {
    "scrolled": true
   },
   "outputs": [
    {
     "data": {
      "text/html": [
       "<div>\n",
       "<style scoped>\n",
       "    .dataframe tbody tr th:only-of-type {\n",
       "        vertical-align: middle;\n",
       "    }\n",
       "\n",
       "    .dataframe tbody tr th {\n",
       "        vertical-align: top;\n",
       "    }\n",
       "\n",
       "    .dataframe thead th {\n",
       "        text-align: right;\n",
       "    }\n",
       "</style>\n",
       "<table border=\"1\" class=\"dataframe\">\n",
       "  <thead>\n",
       "    <tr style=\"text-align: right;\">\n",
       "      <th></th>\n",
       "      <th>tweet_id</th>\n",
       "      <th>in_reply_to_status_id</th>\n",
       "      <th>in_reply_to_user_id</th>\n",
       "      <th>timestamp</th>\n",
       "      <th>source</th>\n",
       "      <th>text</th>\n",
       "      <th>retweeted_status_id</th>\n",
       "      <th>retweeted_status_user_id</th>\n",
       "      <th>retweeted_status_timestamp</th>\n",
       "      <th>expanded_urls</th>\n",
       "      <th>rating_numerator</th>\n",
       "      <th>rating_denominator</th>\n",
       "      <th>name</th>\n",
       "      <th>doggo</th>\n",
       "      <th>floofer</th>\n",
       "      <th>pupper</th>\n",
       "      <th>puppo</th>\n",
       "    </tr>\n",
       "  </thead>\n",
       "  <tbody>\n",
       "    <tr>\n",
       "      <th>2332</th>\n",
       "      <td>666345417576210432</td>\n",
       "      <td>NaN</td>\n",
       "      <td>NaN</td>\n",
       "      <td>2015-11-16 20:01:42 +0000</td>\n",
       "      <td>&lt;a href=\"http://twitter.com/download/iphone\" r...</td>\n",
       "      <td>Look at this jokester thinking seat belt laws ...</td>\n",
       "      <td>NaN</td>\n",
       "      <td>NaN</td>\n",
       "      <td>NaN</td>\n",
       "      <td>https://twitter.com/dog_rates/status/666345417...</td>\n",
       "      <td>10</td>\n",
       "      <td>10</td>\n",
       "      <td>None</td>\n",
       "      <td>None</td>\n",
       "      <td>None</td>\n",
       "      <td>None</td>\n",
       "      <td>None</td>\n",
       "    </tr>\n",
       "    <tr>\n",
       "      <th>1424</th>\n",
       "      <td>697990423684476929</td>\n",
       "      <td>NaN</td>\n",
       "      <td>NaN</td>\n",
       "      <td>2016-02-12 03:47:39 +0000</td>\n",
       "      <td>&lt;a href=\"http://twitter.com/download/iphone\" r...</td>\n",
       "      <td>This is Doug. He's a Draconian Jabbawockee. Ra...</td>\n",
       "      <td>NaN</td>\n",
       "      <td>NaN</td>\n",
       "      <td>NaN</td>\n",
       "      <td>https://twitter.com/dog_rates/status/697990423...</td>\n",
       "      <td>11</td>\n",
       "      <td>10</td>\n",
       "      <td>Doug</td>\n",
       "      <td>None</td>\n",
       "      <td>None</td>\n",
       "      <td>None</td>\n",
       "      <td>None</td>\n",
       "    </tr>\n",
       "    <tr>\n",
       "      <th>582</th>\n",
       "      <td>800388270626521089</td>\n",
       "      <td>NaN</td>\n",
       "      <td>NaN</td>\n",
       "      <td>2016-11-20 17:20:08 +0000</td>\n",
       "      <td>&lt;a href=\"http://twitter.com/download/iphone\" r...</td>\n",
       "      <td>This is Doc. He takes time out of every day to...</td>\n",
       "      <td>NaN</td>\n",
       "      <td>NaN</td>\n",
       "      <td>NaN</td>\n",
       "      <td>https://twitter.com/dog_rates/status/800388270...</td>\n",
       "      <td>12</td>\n",
       "      <td>10</td>\n",
       "      <td>Doc</td>\n",
       "      <td>None</td>\n",
       "      <td>floofer</td>\n",
       "      <td>None</td>\n",
       "      <td>None</td>\n",
       "    </tr>\n",
       "    <tr>\n",
       "      <th>742</th>\n",
       "      <td>780476555013349377</td>\n",
       "      <td>NaN</td>\n",
       "      <td>NaN</td>\n",
       "      <td>2016-09-26 18:38:05 +0000</td>\n",
       "      <td>&lt;a href=\"http://twitter.com/download/iphone\" r...</td>\n",
       "      <td>RT @Patreon: Well. @dog_rates is on Patreon. \\...</td>\n",
       "      <td>7.804657e+17</td>\n",
       "      <td>1.228326e+09</td>\n",
       "      <td>2016-09-26 17:55:00 +0000</td>\n",
       "      <td>https://www.patreon.com/WeRateDogs,https://twi...</td>\n",
       "      <td>12</td>\n",
       "      <td>10</td>\n",
       "      <td>None</td>\n",
       "      <td>None</td>\n",
       "      <td>None</td>\n",
       "      <td>None</td>\n",
       "      <td>None</td>\n",
       "    </tr>\n",
       "    <tr>\n",
       "      <th>1915</th>\n",
       "      <td>674318007229923329</td>\n",
       "      <td>NaN</td>\n",
       "      <td>NaN</td>\n",
       "      <td>2015-12-08 20:01:55 +0000</td>\n",
       "      <td>&lt;a href=\"http://twitter.com/download/iphone\" r...</td>\n",
       "      <td>This is Lennon. He's in quite the predicament....</td>\n",
       "      <td>NaN</td>\n",
       "      <td>NaN</td>\n",
       "      <td>NaN</td>\n",
       "      <td>https://twitter.com/dog_rates/status/674318007...</td>\n",
       "      <td>8</td>\n",
       "      <td>10</td>\n",
       "      <td>Lennon</td>\n",
       "      <td>None</td>\n",
       "      <td>None</td>\n",
       "      <td>pupper</td>\n",
       "      <td>None</td>\n",
       "    </tr>\n",
       "    <tr>\n",
       "      <th>422</th>\n",
       "      <td>821813639212650496</td>\n",
       "      <td>NaN</td>\n",
       "      <td>NaN</td>\n",
       "      <td>2017-01-18 20:16:54 +0000</td>\n",
       "      <td>&lt;a href=\"http://twitter.com/download/iphone\" r...</td>\n",
       "      <td>RT @dog_rates: Meet Hercules. He can have what...</td>\n",
       "      <td>7.806013e+17</td>\n",
       "      <td>4.196984e+09</td>\n",
       "      <td>2016-09-27 02:53:48 +0000</td>\n",
       "      <td>https://twitter.com/dog_rates/status/780601303...</td>\n",
       "      <td>12</td>\n",
       "      <td>10</td>\n",
       "      <td>Hercules</td>\n",
       "      <td>None</td>\n",
       "      <td>None</td>\n",
       "      <td>None</td>\n",
       "      <td>None</td>\n",
       "    </tr>\n",
       "    <tr>\n",
       "      <th>1</th>\n",
       "      <td>892177421306343426</td>\n",
       "      <td>NaN</td>\n",
       "      <td>NaN</td>\n",
       "      <td>2017-08-01 00:17:27 +0000</td>\n",
       "      <td>&lt;a href=\"http://twitter.com/download/iphone\" r...</td>\n",
       "      <td>This is Tilly. She's just checking pup on you....</td>\n",
       "      <td>NaN</td>\n",
       "      <td>NaN</td>\n",
       "      <td>NaN</td>\n",
       "      <td>https://twitter.com/dog_rates/status/892177421...</td>\n",
       "      <td>13</td>\n",
       "      <td>10</td>\n",
       "      <td>Tilly</td>\n",
       "      <td>None</td>\n",
       "      <td>None</td>\n",
       "      <td>None</td>\n",
       "      <td>None</td>\n",
       "    </tr>\n",
       "    <tr>\n",
       "      <th>39</th>\n",
       "      <td>884876753390489601</td>\n",
       "      <td>NaN</td>\n",
       "      <td>NaN</td>\n",
       "      <td>2017-07-11 20:47:12 +0000</td>\n",
       "      <td>&lt;a href=\"http://twitter.com/download/iphone\" r...</td>\n",
       "      <td>This is Lola. It's her first time outside. Mus...</td>\n",
       "      <td>NaN</td>\n",
       "      <td>NaN</td>\n",
       "      <td>NaN</td>\n",
       "      <td>https://twitter.com/dog_rates/status/884876753...</td>\n",
       "      <td>13</td>\n",
       "      <td>10</td>\n",
       "      <td>Lola</td>\n",
       "      <td>None</td>\n",
       "      <td>None</td>\n",
       "      <td>None</td>\n",
       "      <td>None</td>\n",
       "    </tr>\n",
       "    <tr>\n",
       "      <th>1359</th>\n",
       "      <td>703356393781329922</td>\n",
       "      <td>NaN</td>\n",
       "      <td>NaN</td>\n",
       "      <td>2016-02-26 23:10:06 +0000</td>\n",
       "      <td>&lt;a href=\"http://twitter.com/download/iphone\" r...</td>\n",
       "      <td>This is Socks. That water pup w the super legs...</td>\n",
       "      <td>NaN</td>\n",
       "      <td>NaN</td>\n",
       "      <td>NaN</td>\n",
       "      <td>https://twitter.com/dog_rates/status/703356393...</td>\n",
       "      <td>9</td>\n",
       "      <td>10</td>\n",
       "      <td>Socks</td>\n",
       "      <td>None</td>\n",
       "      <td>None</td>\n",
       "      <td>None</td>\n",
       "      <td>None</td>\n",
       "    </tr>\n",
       "    <tr>\n",
       "      <th>901</th>\n",
       "      <td>758474966123810816</td>\n",
       "      <td>NaN</td>\n",
       "      <td>NaN</td>\n",
       "      <td>2016-07-28 01:31:38 +0000</td>\n",
       "      <td>&lt;a href=\"http://twitter.com/download/iphone\" r...</td>\n",
       "      <td>This is Brandonald. He accidentally opened the...</td>\n",
       "      <td>NaN</td>\n",
       "      <td>NaN</td>\n",
       "      <td>NaN</td>\n",
       "      <td>https://twitter.com/dog_rates/status/758474966...</td>\n",
       "      <td>11</td>\n",
       "      <td>10</td>\n",
       "      <td>Brandonald</td>\n",
       "      <td>None</td>\n",
       "      <td>None</td>\n",
       "      <td>None</td>\n",
       "      <td>None</td>\n",
       "    </tr>\n",
       "    <tr>\n",
       "      <th>894</th>\n",
       "      <td>759197388317847553</td>\n",
       "      <td>NaN</td>\n",
       "      <td>NaN</td>\n",
       "      <td>2016-07-30 01:22:17 +0000</td>\n",
       "      <td>&lt;a href=\"http://twitter.com/download/iphone\" r...</td>\n",
       "      <td>This is Luna. She's just heckin precious af I ...</td>\n",
       "      <td>NaN</td>\n",
       "      <td>NaN</td>\n",
       "      <td>NaN</td>\n",
       "      <td>https://twitter.com/dog_rates/status/759197388...</td>\n",
       "      <td>12</td>\n",
       "      <td>10</td>\n",
       "      <td>Luna</td>\n",
       "      <td>None</td>\n",
       "      <td>None</td>\n",
       "      <td>None</td>\n",
       "      <td>None</td>\n",
       "    </tr>\n",
       "    <tr>\n",
       "      <th>342</th>\n",
       "      <td>832088576586297345</td>\n",
       "      <td>8.320875e+17</td>\n",
       "      <td>30582082.0</td>\n",
       "      <td>2017-02-16 04:45:50 +0000</td>\n",
       "      <td>&lt;a href=\"http://twitter.com/download/iphone\" r...</td>\n",
       "      <td>@docmisterio account started on 11/15/15</td>\n",
       "      <td>NaN</td>\n",
       "      <td>NaN</td>\n",
       "      <td>NaN</td>\n",
       "      <td>NaN</td>\n",
       "      <td>11</td>\n",
       "      <td>15</td>\n",
       "      <td>None</td>\n",
       "      <td>None</td>\n",
       "      <td>None</td>\n",
       "      <td>None</td>\n",
       "      <td>None</td>\n",
       "    </tr>\n",
       "    <tr>\n",
       "      <th>1656</th>\n",
       "      <td>683357973142474752</td>\n",
       "      <td>NaN</td>\n",
       "      <td>NaN</td>\n",
       "      <td>2016-01-02 18:43:31 +0000</td>\n",
       "      <td>&lt;a href=\"http://twitter.com/download/iphone\" r...</td>\n",
       "      <td>\"Have a seat, son. There are some things we ne...</td>\n",
       "      <td>NaN</td>\n",
       "      <td>NaN</td>\n",
       "      <td>NaN</td>\n",
       "      <td>https://twitter.com/dog_rates/status/683357973...</td>\n",
       "      <td>10</td>\n",
       "      <td>10</td>\n",
       "      <td>None</td>\n",
       "      <td>None</td>\n",
       "      <td>None</td>\n",
       "      <td>None</td>\n",
       "      <td>None</td>\n",
       "    </tr>\n",
       "    <tr>\n",
       "      <th>2103</th>\n",
       "      <td>670676092097810432</td>\n",
       "      <td>NaN</td>\n",
       "      <td>NaN</td>\n",
       "      <td>2015-11-28 18:50:15 +0000</td>\n",
       "      <td>&lt;a href=\"http://twitter.com/download/iphone\" r...</td>\n",
       "      <td>This is Bloo. He's a Westminster Cîroc. Doesn'...</td>\n",
       "      <td>NaN</td>\n",
       "      <td>NaN</td>\n",
       "      <td>NaN</td>\n",
       "      <td>https://twitter.com/dog_rates/status/670676092...</td>\n",
       "      <td>8</td>\n",
       "      <td>10</td>\n",
       "      <td>Bloo</td>\n",
       "      <td>None</td>\n",
       "      <td>None</td>\n",
       "      <td>None</td>\n",
       "      <td>None</td>\n",
       "    </tr>\n",
       "    <tr>\n",
       "      <th>676</th>\n",
       "      <td>789314372632018944</td>\n",
       "      <td>NaN</td>\n",
       "      <td>NaN</td>\n",
       "      <td>2016-10-21 03:56:25 +0000</td>\n",
       "      <td>&lt;a href=\"http://twitter.com/download/iphone\" r...</td>\n",
       "      <td>HE WAS JUST A LIL SLEEPY FROM BEING SUCH A GOO...</td>\n",
       "      <td>NaN</td>\n",
       "      <td>NaN</td>\n",
       "      <td>NaN</td>\n",
       "      <td>https://twitter.com/sebscat/status/78881832853...</td>\n",
       "      <td>13</td>\n",
       "      <td>10</td>\n",
       "      <td>None</td>\n",
       "      <td>None</td>\n",
       "      <td>None</td>\n",
       "      <td>None</td>\n",
       "      <td>None</td>\n",
       "    </tr>\n",
       "    <tr>\n",
       "      <th>2001</th>\n",
       "      <td>672482722825261057</td>\n",
       "      <td>NaN</td>\n",
       "      <td>NaN</td>\n",
       "      <td>2015-12-03 18:29:09 +0000</td>\n",
       "      <td>&lt;a href=\"http://twitter.com/download/iphone\" r...</td>\n",
       "      <td>This is light saber pup. Ready to fight off ev...</td>\n",
       "      <td>NaN</td>\n",
       "      <td>NaN</td>\n",
       "      <td>NaN</td>\n",
       "      <td>https://twitter.com/dog_rates/status/672482722...</td>\n",
       "      <td>10</td>\n",
       "      <td>10</td>\n",
       "      <td>light</td>\n",
       "      <td>None</td>\n",
       "      <td>None</td>\n",
       "      <td>None</td>\n",
       "      <td>None</td>\n",
       "    </tr>\n",
       "    <tr>\n",
       "      <th>490</th>\n",
       "      <td>813812741911748608</td>\n",
       "      <td>NaN</td>\n",
       "      <td>NaN</td>\n",
       "      <td>2016-12-27 18:24:12 +0000</td>\n",
       "      <td>&lt;a href=\"http://twitter.com/download/iphone\" r...</td>\n",
       "      <td>Meet Gary, Carrie Fisher's dog. Idk what I can...</td>\n",
       "      <td>NaN</td>\n",
       "      <td>NaN</td>\n",
       "      <td>NaN</td>\n",
       "      <td>https://twitter.com/dog_rates/status/813812741...</td>\n",
       "      <td>14</td>\n",
       "      <td>10</td>\n",
       "      <td>Gary</td>\n",
       "      <td>None</td>\n",
       "      <td>None</td>\n",
       "      <td>None</td>\n",
       "      <td>None</td>\n",
       "    </tr>\n",
       "    <tr>\n",
       "      <th>625</th>\n",
       "      <td>795400264262053889</td>\n",
       "      <td>NaN</td>\n",
       "      <td>NaN</td>\n",
       "      <td>2016-11-06 22:59:35 +0000</td>\n",
       "      <td>&lt;a href=\"http://twitter.com/download/iphone\" r...</td>\n",
       "      <td>This is Brody. He's trying to make the same fa...</td>\n",
       "      <td>NaN</td>\n",
       "      <td>NaN</td>\n",
       "      <td>NaN</td>\n",
       "      <td>https://twitter.com/dog_rates/status/795400264...</td>\n",
       "      <td>12</td>\n",
       "      <td>10</td>\n",
       "      <td>Brody</td>\n",
       "      <td>None</td>\n",
       "      <td>None</td>\n",
       "      <td>None</td>\n",
       "      <td>None</td>\n",
       "    </tr>\n",
       "    <tr>\n",
       "      <th>950</th>\n",
       "      <td>752173152931807232</td>\n",
       "      <td>NaN</td>\n",
       "      <td>NaN</td>\n",
       "      <td>2016-07-10 16:10:29 +0000</td>\n",
       "      <td>&lt;a href=\"http://twitter.com/download/iphone\" r...</td>\n",
       "      <td>This is Brody. He's a lifeguard. Always prepar...</td>\n",
       "      <td>NaN</td>\n",
       "      <td>NaN</td>\n",
       "      <td>NaN</td>\n",
       "      <td>https://twitter.com/dog_rates/status/752173152...</td>\n",
       "      <td>12</td>\n",
       "      <td>10</td>\n",
       "      <td>Brody</td>\n",
       "      <td>None</td>\n",
       "      <td>None</td>\n",
       "      <td>None</td>\n",
       "      <td>None</td>\n",
       "    </tr>\n",
       "    <tr>\n",
       "      <th>2015</th>\n",
       "      <td>672205392827572224</td>\n",
       "      <td>NaN</td>\n",
       "      <td>NaN</td>\n",
       "      <td>2015-12-03 00:07:09 +0000</td>\n",
       "      <td>&lt;a href=\"http://twitter.com/download/iphone\" r...</td>\n",
       "      <td>This is Opal. He's a Royal John Coctostan. Rea...</td>\n",
       "      <td>NaN</td>\n",
       "      <td>NaN</td>\n",
       "      <td>NaN</td>\n",
       "      <td>https://twitter.com/dog_rates/status/672205392...</td>\n",
       "      <td>9</td>\n",
       "      <td>10</td>\n",
       "      <td>Opal</td>\n",
       "      <td>None</td>\n",
       "      <td>None</td>\n",
       "      <td>pupper</td>\n",
       "      <td>None</td>\n",
       "    </tr>\n",
       "  </tbody>\n",
       "</table>\n",
       "</div>"
      ],
      "text/plain": [
       "                tweet_id  in_reply_to_status_id  in_reply_to_user_id  \\\n",
       "2332  666345417576210432                    NaN                  NaN   \n",
       "1424  697990423684476929                    NaN                  NaN   \n",
       "582   800388270626521089                    NaN                  NaN   \n",
       "742   780476555013349377                    NaN                  NaN   \n",
       "1915  674318007229923329                    NaN                  NaN   \n",
       "422   821813639212650496                    NaN                  NaN   \n",
       "1     892177421306343426                    NaN                  NaN   \n",
       "39    884876753390489601                    NaN                  NaN   \n",
       "1359  703356393781329922                    NaN                  NaN   \n",
       "901   758474966123810816                    NaN                  NaN   \n",
       "894   759197388317847553                    NaN                  NaN   \n",
       "342   832088576586297345           8.320875e+17           30582082.0   \n",
       "1656  683357973142474752                    NaN                  NaN   \n",
       "2103  670676092097810432                    NaN                  NaN   \n",
       "676   789314372632018944                    NaN                  NaN   \n",
       "2001  672482722825261057                    NaN                  NaN   \n",
       "490   813812741911748608                    NaN                  NaN   \n",
       "625   795400264262053889                    NaN                  NaN   \n",
       "950   752173152931807232                    NaN                  NaN   \n",
       "2015  672205392827572224                    NaN                  NaN   \n",
       "\n",
       "                      timestamp  \\\n",
       "2332  2015-11-16 20:01:42 +0000   \n",
       "1424  2016-02-12 03:47:39 +0000   \n",
       "582   2016-11-20 17:20:08 +0000   \n",
       "742   2016-09-26 18:38:05 +0000   \n",
       "1915  2015-12-08 20:01:55 +0000   \n",
       "422   2017-01-18 20:16:54 +0000   \n",
       "1     2017-08-01 00:17:27 +0000   \n",
       "39    2017-07-11 20:47:12 +0000   \n",
       "1359  2016-02-26 23:10:06 +0000   \n",
       "901   2016-07-28 01:31:38 +0000   \n",
       "894   2016-07-30 01:22:17 +0000   \n",
       "342   2017-02-16 04:45:50 +0000   \n",
       "1656  2016-01-02 18:43:31 +0000   \n",
       "2103  2015-11-28 18:50:15 +0000   \n",
       "676   2016-10-21 03:56:25 +0000   \n",
       "2001  2015-12-03 18:29:09 +0000   \n",
       "490   2016-12-27 18:24:12 +0000   \n",
       "625   2016-11-06 22:59:35 +0000   \n",
       "950   2016-07-10 16:10:29 +0000   \n",
       "2015  2015-12-03 00:07:09 +0000   \n",
       "\n",
       "                                                 source  \\\n",
       "2332  <a href=\"http://twitter.com/download/iphone\" r...   \n",
       "1424  <a href=\"http://twitter.com/download/iphone\" r...   \n",
       "582   <a href=\"http://twitter.com/download/iphone\" r...   \n",
       "742   <a href=\"http://twitter.com/download/iphone\" r...   \n",
       "1915  <a href=\"http://twitter.com/download/iphone\" r...   \n",
       "422   <a href=\"http://twitter.com/download/iphone\" r...   \n",
       "1     <a href=\"http://twitter.com/download/iphone\" r...   \n",
       "39    <a href=\"http://twitter.com/download/iphone\" r...   \n",
       "1359  <a href=\"http://twitter.com/download/iphone\" r...   \n",
       "901   <a href=\"http://twitter.com/download/iphone\" r...   \n",
       "894   <a href=\"http://twitter.com/download/iphone\" r...   \n",
       "342   <a href=\"http://twitter.com/download/iphone\" r...   \n",
       "1656  <a href=\"http://twitter.com/download/iphone\" r...   \n",
       "2103  <a href=\"http://twitter.com/download/iphone\" r...   \n",
       "676   <a href=\"http://twitter.com/download/iphone\" r...   \n",
       "2001  <a href=\"http://twitter.com/download/iphone\" r...   \n",
       "490   <a href=\"http://twitter.com/download/iphone\" r...   \n",
       "625   <a href=\"http://twitter.com/download/iphone\" r...   \n",
       "950   <a href=\"http://twitter.com/download/iphone\" r...   \n",
       "2015  <a href=\"http://twitter.com/download/iphone\" r...   \n",
       "\n",
       "                                                   text  retweeted_status_id  \\\n",
       "2332  Look at this jokester thinking seat belt laws ...                  NaN   \n",
       "1424  This is Doug. He's a Draconian Jabbawockee. Ra...                  NaN   \n",
       "582   This is Doc. He takes time out of every day to...                  NaN   \n",
       "742   RT @Patreon: Well. @dog_rates is on Patreon. \\...         7.804657e+17   \n",
       "1915  This is Lennon. He's in quite the predicament....                  NaN   \n",
       "422   RT @dog_rates: Meet Hercules. He can have what...         7.806013e+17   \n",
       "1     This is Tilly. She's just checking pup on you....                  NaN   \n",
       "39    This is Lola. It's her first time outside. Mus...                  NaN   \n",
       "1359  This is Socks. That water pup w the super legs...                  NaN   \n",
       "901   This is Brandonald. He accidentally opened the...                  NaN   \n",
       "894   This is Luna. She's just heckin precious af I ...                  NaN   \n",
       "342            @docmisterio account started on 11/15/15                  NaN   \n",
       "1656  \"Have a seat, son. There are some things we ne...                  NaN   \n",
       "2103  This is Bloo. He's a Westminster Cîroc. Doesn'...                  NaN   \n",
       "676   HE WAS JUST A LIL SLEEPY FROM BEING SUCH A GOO...                  NaN   \n",
       "2001  This is light saber pup. Ready to fight off ev...                  NaN   \n",
       "490   Meet Gary, Carrie Fisher's dog. Idk what I can...                  NaN   \n",
       "625   This is Brody. He's trying to make the same fa...                  NaN   \n",
       "950   This is Brody. He's a lifeguard. Always prepar...                  NaN   \n",
       "2015  This is Opal. He's a Royal John Coctostan. Rea...                  NaN   \n",
       "\n",
       "      retweeted_status_user_id retweeted_status_timestamp  \\\n",
       "2332                       NaN                        NaN   \n",
       "1424                       NaN                        NaN   \n",
       "582                        NaN                        NaN   \n",
       "742               1.228326e+09  2016-09-26 17:55:00 +0000   \n",
       "1915                       NaN                        NaN   \n",
       "422               4.196984e+09  2016-09-27 02:53:48 +0000   \n",
       "1                          NaN                        NaN   \n",
       "39                         NaN                        NaN   \n",
       "1359                       NaN                        NaN   \n",
       "901                        NaN                        NaN   \n",
       "894                        NaN                        NaN   \n",
       "342                        NaN                        NaN   \n",
       "1656                       NaN                        NaN   \n",
       "2103                       NaN                        NaN   \n",
       "676                        NaN                        NaN   \n",
       "2001                       NaN                        NaN   \n",
       "490                        NaN                        NaN   \n",
       "625                        NaN                        NaN   \n",
       "950                        NaN                        NaN   \n",
       "2015                       NaN                        NaN   \n",
       "\n",
       "                                          expanded_urls  rating_numerator  \\\n",
       "2332  https://twitter.com/dog_rates/status/666345417...                10   \n",
       "1424  https://twitter.com/dog_rates/status/697990423...                11   \n",
       "582   https://twitter.com/dog_rates/status/800388270...                12   \n",
       "742   https://www.patreon.com/WeRateDogs,https://twi...                12   \n",
       "1915  https://twitter.com/dog_rates/status/674318007...                 8   \n",
       "422   https://twitter.com/dog_rates/status/780601303...                12   \n",
       "1     https://twitter.com/dog_rates/status/892177421...                13   \n",
       "39    https://twitter.com/dog_rates/status/884876753...                13   \n",
       "1359  https://twitter.com/dog_rates/status/703356393...                 9   \n",
       "901   https://twitter.com/dog_rates/status/758474966...                11   \n",
       "894   https://twitter.com/dog_rates/status/759197388...                12   \n",
       "342                                                 NaN                11   \n",
       "1656  https://twitter.com/dog_rates/status/683357973...                10   \n",
       "2103  https://twitter.com/dog_rates/status/670676092...                 8   \n",
       "676   https://twitter.com/sebscat/status/78881832853...                13   \n",
       "2001  https://twitter.com/dog_rates/status/672482722...                10   \n",
       "490   https://twitter.com/dog_rates/status/813812741...                14   \n",
       "625   https://twitter.com/dog_rates/status/795400264...                12   \n",
       "950   https://twitter.com/dog_rates/status/752173152...                12   \n",
       "2015  https://twitter.com/dog_rates/status/672205392...                 9   \n",
       "\n",
       "      rating_denominator        name doggo  floofer  pupper puppo  \n",
       "2332                  10        None  None     None    None  None  \n",
       "1424                  10        Doug  None     None    None  None  \n",
       "582                   10         Doc  None  floofer    None  None  \n",
       "742                   10        None  None     None    None  None  \n",
       "1915                  10      Lennon  None     None  pupper  None  \n",
       "422                   10    Hercules  None     None    None  None  \n",
       "1                     10       Tilly  None     None    None  None  \n",
       "39                    10        Lola  None     None    None  None  \n",
       "1359                  10       Socks  None     None    None  None  \n",
       "901                   10  Brandonald  None     None    None  None  \n",
       "894                   10        Luna  None     None    None  None  \n",
       "342                   15        None  None     None    None  None  \n",
       "1656                  10        None  None     None    None  None  \n",
       "2103                  10        Bloo  None     None    None  None  \n",
       "676                   10        None  None     None    None  None  \n",
       "2001                  10       light  None     None    None  None  \n",
       "490                   10        Gary  None     None    None  None  \n",
       "625                   10       Brody  None     None    None  None  \n",
       "950                   10       Brody  None     None    None  None  \n",
       "2015                  10        Opal  None     None  pupper  None  "
      ]
     },
     "execution_count": 11,
     "metadata": {},
     "output_type": "execute_result"
    }
   ],
   "source": [
    "df_archive.sample(20)"
   ]
  },
  {
   "cell_type": "code",
   "execution_count": 12,
   "metadata": {},
   "outputs": [
    {
     "name": "stdout",
     "output_type": "stream",
     "text": [
      "<class 'pandas.core.frame.DataFrame'>\n",
      "RangeIndex: 2356 entries, 0 to 2355\n",
      "Data columns (total 17 columns):\n",
      " #   Column                      Non-Null Count  Dtype  \n",
      "---  ------                      --------------  -----  \n",
      " 0   tweet_id                    2356 non-null   int64  \n",
      " 1   in_reply_to_status_id       78 non-null     float64\n",
      " 2   in_reply_to_user_id         78 non-null     float64\n",
      " 3   timestamp                   2356 non-null   object \n",
      " 4   source                      2356 non-null   object \n",
      " 5   text                        2356 non-null   object \n",
      " 6   retweeted_status_id         181 non-null    float64\n",
      " 7   retweeted_status_user_id    181 non-null    float64\n",
      " 8   retweeted_status_timestamp  181 non-null    object \n",
      " 9   expanded_urls               2297 non-null   object \n",
      " 10  rating_numerator            2356 non-null   int64  \n",
      " 11  rating_denominator          2356 non-null   int64  \n",
      " 12  name                        2356 non-null   object \n",
      " 13  doggo                       2356 non-null   object \n",
      " 14  floofer                     2356 non-null   object \n",
      " 15  pupper                      2356 non-null   object \n",
      " 16  puppo                       2356 non-null   object \n",
      "dtypes: float64(4), int64(3), object(10)\n",
      "memory usage: 313.0+ KB\n"
     ]
    }
   ],
   "source": [
    "df_archive.info()"
   ]
  },
  {
   "cell_type": "code",
   "execution_count": 13,
   "metadata": {},
   "outputs": [
    {
     "data": {
      "text/plain": [
       "0"
      ]
     },
     "execution_count": 13,
     "metadata": {},
     "output_type": "execute_result"
    }
   ],
   "source": [
    "df_archive.duplicated().sum()"
   ]
  },
  {
   "cell_type": "code",
   "execution_count": 14,
   "metadata": {},
   "outputs": [
    {
     "data": {
      "text/plain": [
       "doggo  floofer  pupper  puppo\n",
       "None   None     None    None     1976\n",
       "                pupper  None      245\n",
       "doggo  None     None    None       83\n",
       "None   None     None    puppo      29\n",
       "doggo  None     pupper  None       12\n",
       "None   floofer  None    None        9\n",
       "doggo  None     None    puppo       1\n",
       "       floofer  None    None        1\n",
       "dtype: int64"
      ]
     },
     "execution_count": 14,
     "metadata": {},
     "output_type": "execute_result"
    }
   ],
   "source": [
    "df_archive[['doggo','floofer', 'pupper', 'puppo']].value_counts()"
   ]
  },
  {
   "cell_type": "code",
   "execution_count": 15,
   "metadata": {},
   "outputs": [
    {
     "data": {
      "text/html": [
       "<div>\n",
       "<style scoped>\n",
       "    .dataframe tbody tr th:only-of-type {\n",
       "        vertical-align: middle;\n",
       "    }\n",
       "\n",
       "    .dataframe tbody tr th {\n",
       "        vertical-align: top;\n",
       "    }\n",
       "\n",
       "    .dataframe thead th {\n",
       "        text-align: right;\n",
       "    }\n",
       "</style>\n",
       "<table border=\"1\" class=\"dataframe\">\n",
       "  <thead>\n",
       "    <tr style=\"text-align: right;\">\n",
       "      <th></th>\n",
       "      <th>rating_denominator</th>\n",
       "      <th>rating_numerator</th>\n",
       "    </tr>\n",
       "  </thead>\n",
       "  <tbody>\n",
       "    <tr>\n",
       "      <th>count</th>\n",
       "      <td>2356.000000</td>\n",
       "      <td>2356.000000</td>\n",
       "    </tr>\n",
       "    <tr>\n",
       "      <th>mean</th>\n",
       "      <td>10.455433</td>\n",
       "      <td>13.126486</td>\n",
       "    </tr>\n",
       "    <tr>\n",
       "      <th>std</th>\n",
       "      <td>6.745237</td>\n",
       "      <td>45.876648</td>\n",
       "    </tr>\n",
       "    <tr>\n",
       "      <th>min</th>\n",
       "      <td>0.000000</td>\n",
       "      <td>0.000000</td>\n",
       "    </tr>\n",
       "    <tr>\n",
       "      <th>25%</th>\n",
       "      <td>10.000000</td>\n",
       "      <td>10.000000</td>\n",
       "    </tr>\n",
       "    <tr>\n",
       "      <th>50%</th>\n",
       "      <td>10.000000</td>\n",
       "      <td>11.000000</td>\n",
       "    </tr>\n",
       "    <tr>\n",
       "      <th>75%</th>\n",
       "      <td>10.000000</td>\n",
       "      <td>12.000000</td>\n",
       "    </tr>\n",
       "    <tr>\n",
       "      <th>max</th>\n",
       "      <td>170.000000</td>\n",
       "      <td>1776.000000</td>\n",
       "    </tr>\n",
       "  </tbody>\n",
       "</table>\n",
       "</div>"
      ],
      "text/plain": [
       "       rating_denominator  rating_numerator\n",
       "count         2356.000000       2356.000000\n",
       "mean            10.455433         13.126486\n",
       "std              6.745237         45.876648\n",
       "min              0.000000          0.000000\n",
       "25%             10.000000         10.000000\n",
       "50%             10.000000         11.000000\n",
       "75%             10.000000         12.000000\n",
       "max            170.000000       1776.000000"
      ]
     },
     "execution_count": 15,
     "metadata": {},
     "output_type": "execute_result"
    }
   ],
   "source": [
    "df_archive[['rating_denominator', 'rating_numerator']].describe()"
   ]
  },
  {
   "cell_type": "code",
   "execution_count": 16,
   "metadata": {
    "scrolled": true
   },
   "outputs": [
    {
     "data": {
      "text/html": [
       "<div>\n",
       "<style scoped>\n",
       "    .dataframe tbody tr th:only-of-type {\n",
       "        vertical-align: middle;\n",
       "    }\n",
       "\n",
       "    .dataframe tbody tr th {\n",
       "        vertical-align: top;\n",
       "    }\n",
       "\n",
       "    .dataframe thead th {\n",
       "        text-align: right;\n",
       "    }\n",
       "</style>\n",
       "<table border=\"1\" class=\"dataframe\">\n",
       "  <thead>\n",
       "    <tr style=\"text-align: right;\">\n",
       "      <th></th>\n",
       "      <th>tweet_id</th>\n",
       "      <th>jpg_url</th>\n",
       "      <th>img_num</th>\n",
       "      <th>p1</th>\n",
       "      <th>p1_conf</th>\n",
       "      <th>p1_dog</th>\n",
       "      <th>p2</th>\n",
       "      <th>p2_conf</th>\n",
       "      <th>p2_dog</th>\n",
       "      <th>p3</th>\n",
       "      <th>p3_conf</th>\n",
       "      <th>p3_dog</th>\n",
       "    </tr>\n",
       "  </thead>\n",
       "  <tbody>\n",
       "    <tr>\n",
       "      <th>169</th>\n",
       "      <td>668989615043424256</td>\n",
       "      <td>https://pbs.twimg.com/media/CUi6geuUYAIvE9n.jpg</td>\n",
       "      <td>1</td>\n",
       "      <td>pug</td>\n",
       "      <td>0.917326</td>\n",
       "      <td>True</td>\n",
       "      <td>waffle_iron</td>\n",
       "      <td>0.014918</td>\n",
       "      <td>False</td>\n",
       "      <td>Chihuahua</td>\n",
       "      <td>0.013524</td>\n",
       "      <td>True</td>\n",
       "    </tr>\n",
       "    <tr>\n",
       "      <th>783</th>\n",
       "      <td>690015576308211712</td>\n",
       "      <td>https://pbs.twimg.com/media/CZNtgWhWkAAbq3W.jpg</td>\n",
       "      <td>2</td>\n",
       "      <td>malamute</td>\n",
       "      <td>0.949609</td>\n",
       "      <td>True</td>\n",
       "      <td>Siberian_husky</td>\n",
       "      <td>0.033084</td>\n",
       "      <td>True</td>\n",
       "      <td>Eskimo_dog</td>\n",
       "      <td>0.016663</td>\n",
       "      <td>True</td>\n",
       "    </tr>\n",
       "    <tr>\n",
       "      <th>274</th>\n",
       "      <td>670833812859932673</td>\n",
       "      <td>https://pbs.twimg.com/media/CU9HyzSWIAAVcte.jpg</td>\n",
       "      <td>1</td>\n",
       "      <td>Pekinese</td>\n",
       "      <td>0.609853</td>\n",
       "      <td>True</td>\n",
       "      <td>Persian_cat</td>\n",
       "      <td>0.265442</td>\n",
       "      <td>False</td>\n",
       "      <td>Japanese_spaniel</td>\n",
       "      <td>0.027460</td>\n",
       "      <td>True</td>\n",
       "    </tr>\n",
       "    <tr>\n",
       "      <th>1332</th>\n",
       "      <td>757725642876129280</td>\n",
       "      <td>https://pbs.twimg.com/media/CoP7c4bWcAAr55g.jpg</td>\n",
       "      <td>2</td>\n",
       "      <td>seat_belt</td>\n",
       "      <td>0.425176</td>\n",
       "      <td>False</td>\n",
       "      <td>Labrador_retriever</td>\n",
       "      <td>0.128128</td>\n",
       "      <td>True</td>\n",
       "      <td>Siamese_cat</td>\n",
       "      <td>0.091241</td>\n",
       "      <td>False</td>\n",
       "    </tr>\n",
       "    <tr>\n",
       "      <th>38</th>\n",
       "      <td>666644823164719104</td>\n",
       "      <td>https://pbs.twimg.com/media/CUBl6IwVAAA9_zT.jpg</td>\n",
       "      <td>1</td>\n",
       "      <td>Ibizan_hound</td>\n",
       "      <td>0.044333</td>\n",
       "      <td>True</td>\n",
       "      <td>Pembroke</td>\n",
       "      <td>0.043209</td>\n",
       "      <td>True</td>\n",
       "      <td>West_Highland_white_terrier</td>\n",
       "      <td>0.038906</td>\n",
       "      <td>True</td>\n",
       "    </tr>\n",
       "    <tr>\n",
       "      <th>1154</th>\n",
       "      <td>732732193018155009</td>\n",
       "      <td>https://pbs.twimg.com/media/CiswCQhWYAI5-QW.jpg</td>\n",
       "      <td>1</td>\n",
       "      <td>koala</td>\n",
       "      <td>0.162935</td>\n",
       "      <td>False</td>\n",
       "      <td>Staffordshire_bullterrier</td>\n",
       "      <td>0.127969</td>\n",
       "      <td>True</td>\n",
       "      <td>mongoose</td>\n",
       "      <td>0.096421</td>\n",
       "      <td>False</td>\n",
       "    </tr>\n",
       "    <tr>\n",
       "      <th>1970</th>\n",
       "      <td>868880397819494401</td>\n",
       "      <td>https://pbs.twimg.com/media/DA7iHL5U0AA1OQo.jpg</td>\n",
       "      <td>1</td>\n",
       "      <td>laptop</td>\n",
       "      <td>0.153718</td>\n",
       "      <td>False</td>\n",
       "      <td>French_bulldog</td>\n",
       "      <td>0.099984</td>\n",
       "      <td>True</td>\n",
       "      <td>printer</td>\n",
       "      <td>0.077130</td>\n",
       "      <td>False</td>\n",
       "    </tr>\n",
       "    <tr>\n",
       "      <th>820</th>\n",
       "      <td>692919143163629568</td>\n",
       "      <td>https://pbs.twimg.com/media/CZ2-SRiWcAIjuM5.jpg</td>\n",
       "      <td>1</td>\n",
       "      <td>Saint_Bernard</td>\n",
       "      <td>0.612635</td>\n",
       "      <td>True</td>\n",
       "      <td>English_springer</td>\n",
       "      <td>0.269744</td>\n",
       "      <td>True</td>\n",
       "      <td>boxer</td>\n",
       "      <td>0.048666</td>\n",
       "      <td>True</td>\n",
       "    </tr>\n",
       "    <tr>\n",
       "      <th>1478</th>\n",
       "      <td>780601303617732608</td>\n",
       "      <td>https://pbs.twimg.com/media/CtVAvX-WIAAcGTf.jpg</td>\n",
       "      <td>1</td>\n",
       "      <td>Saint_Bernard</td>\n",
       "      <td>0.995143</td>\n",
       "      <td>True</td>\n",
       "      <td>Cardigan</td>\n",
       "      <td>0.003044</td>\n",
       "      <td>True</td>\n",
       "      <td>English_springer</td>\n",
       "      <td>0.001050</td>\n",
       "      <td>True</td>\n",
       "    </tr>\n",
       "    <tr>\n",
       "      <th>604</th>\n",
       "      <td>679854723806179328</td>\n",
       "      <td>https://pbs.twimg.com/media/CW9UQ7oWkAAErmU.jpg</td>\n",
       "      <td>1</td>\n",
       "      <td>llama</td>\n",
       "      <td>0.887963</td>\n",
       "      <td>False</td>\n",
       "      <td>ram</td>\n",
       "      <td>0.095021</td>\n",
       "      <td>False</td>\n",
       "      <td>chow</td>\n",
       "      <td>0.002307</td>\n",
       "      <td>True</td>\n",
       "    </tr>\n",
       "    <tr>\n",
       "      <th>1878</th>\n",
       "      <td>846153765933735936</td>\n",
       "      <td>https://pbs.twimg.com/media/C74kWqoU8AEaf3v.jpg</td>\n",
       "      <td>1</td>\n",
       "      <td>giant_schnauzer</td>\n",
       "      <td>0.346468</td>\n",
       "      <td>True</td>\n",
       "      <td>flat-coated_retriever</td>\n",
       "      <td>0.218451</td>\n",
       "      <td>True</td>\n",
       "      <td>Labrador_retriever</td>\n",
       "      <td>0.108020</td>\n",
       "      <td>True</td>\n",
       "    </tr>\n",
       "    <tr>\n",
       "      <th>1166</th>\n",
       "      <td>735635087207878657</td>\n",
       "      <td>https://pbs.twimg.com/media/CjWANBlVAAAaN-a.jpg</td>\n",
       "      <td>1</td>\n",
       "      <td>pug</td>\n",
       "      <td>0.891871</td>\n",
       "      <td>True</td>\n",
       "      <td>goose</td>\n",
       "      <td>0.014377</td>\n",
       "      <td>False</td>\n",
       "      <td>fur_coat</td>\n",
       "      <td>0.008451</td>\n",
       "      <td>False</td>\n",
       "    </tr>\n",
       "    <tr>\n",
       "      <th>1137</th>\n",
       "      <td>728986383096946689</td>\n",
       "      <td>https://pbs.twimg.com/media/Ch3hOGWUYAE7w0y.jpg</td>\n",
       "      <td>2</td>\n",
       "      <td>Maltese_dog</td>\n",
       "      <td>0.952070</td>\n",
       "      <td>True</td>\n",
       "      <td>toy_poodle</td>\n",
       "      <td>0.027271</td>\n",
       "      <td>True</td>\n",
       "      <td>miniature_poodle</td>\n",
       "      <td>0.004874</td>\n",
       "      <td>True</td>\n",
       "    </tr>\n",
       "    <tr>\n",
       "      <th>924</th>\n",
       "      <td>702321140488925184</td>\n",
       "      <td>https://pbs.twimg.com/media/Cb8lWafWEAA2q93.jpg</td>\n",
       "      <td>3</td>\n",
       "      <td>West_Highland_white_terrier</td>\n",
       "      <td>0.769159</td>\n",
       "      <td>True</td>\n",
       "      <td>Scotch_terrier</td>\n",
       "      <td>0.064369</td>\n",
       "      <td>True</td>\n",
       "      <td>Old_English_sheepdog</td>\n",
       "      <td>0.043763</td>\n",
       "      <td>True</td>\n",
       "    </tr>\n",
       "    <tr>\n",
       "      <th>1590</th>\n",
       "      <td>798644042770751489</td>\n",
       "      <td>https://pbs.twimg.com/media/CU3mITUWIAAfyQS.jpg</td>\n",
       "      <td>1</td>\n",
       "      <td>English_springer</td>\n",
       "      <td>0.403698</td>\n",
       "      <td>True</td>\n",
       "      <td>Brittany_spaniel</td>\n",
       "      <td>0.347609</td>\n",
       "      <td>True</td>\n",
       "      <td>Welsh_springer_spaniel</td>\n",
       "      <td>0.137186</td>\n",
       "      <td>True</td>\n",
       "    </tr>\n",
       "    <tr>\n",
       "      <th>652</th>\n",
       "      <td>682032003584274432</td>\n",
       "      <td>https://pbs.twimg.com/media/CXcQfUNUQAEwFoQ.jpg</td>\n",
       "      <td>1</td>\n",
       "      <td>schipperke</td>\n",
       "      <td>0.997953</td>\n",
       "      <td>True</td>\n",
       "      <td>groenendael</td>\n",
       "      <td>0.000676</td>\n",
       "      <td>True</td>\n",
       "      <td>miniature_pinscher</td>\n",
       "      <td>0.000211</td>\n",
       "      <td>True</td>\n",
       "    </tr>\n",
       "    <tr>\n",
       "      <th>2059</th>\n",
       "      <td>889278841981685760</td>\n",
       "      <td>https://pbs.twimg.com/ext_tw_video_thumb/88927...</td>\n",
       "      <td>1</td>\n",
       "      <td>whippet</td>\n",
       "      <td>0.626152</td>\n",
       "      <td>True</td>\n",
       "      <td>borzoi</td>\n",
       "      <td>0.194742</td>\n",
       "      <td>True</td>\n",
       "      <td>Saluki</td>\n",
       "      <td>0.027351</td>\n",
       "      <td>True</td>\n",
       "    </tr>\n",
       "    <tr>\n",
       "      <th>448</th>\n",
       "      <td>674690135443775488</td>\n",
       "      <td>https://pbs.twimg.com/media/CVz7FxXWUAAlTRP.jpg</td>\n",
       "      <td>1</td>\n",
       "      <td>tick</td>\n",
       "      <td>0.242538</td>\n",
       "      <td>False</td>\n",
       "      <td>nail</td>\n",
       "      <td>0.212589</td>\n",
       "      <td>False</td>\n",
       "      <td>screw</td>\n",
       "      <td>0.172838</td>\n",
       "      <td>False</td>\n",
       "    </tr>\n",
       "    <tr>\n",
       "      <th>1475</th>\n",
       "      <td>780476555013349377</td>\n",
       "      <td>https://pbs.twimg.com/tweet_video_thumb/CtTFZZ...</td>\n",
       "      <td>1</td>\n",
       "      <td>pug</td>\n",
       "      <td>0.919255</td>\n",
       "      <td>True</td>\n",
       "      <td>French_bulldog</td>\n",
       "      <td>0.032350</td>\n",
       "      <td>True</td>\n",
       "      <td>bull_mastiff</td>\n",
       "      <td>0.028468</td>\n",
       "      <td>True</td>\n",
       "    </tr>\n",
       "    <tr>\n",
       "      <th>19</th>\n",
       "      <td>666273097616637952</td>\n",
       "      <td>https://pbs.twimg.com/media/CT8T1mtUwAA3aqm.jpg</td>\n",
       "      <td>1</td>\n",
       "      <td>Italian_greyhound</td>\n",
       "      <td>0.176053</td>\n",
       "      <td>True</td>\n",
       "      <td>toy_terrier</td>\n",
       "      <td>0.111884</td>\n",
       "      <td>True</td>\n",
       "      <td>basenji</td>\n",
       "      <td>0.111152</td>\n",
       "      <td>True</td>\n",
       "    </tr>\n",
       "  </tbody>\n",
       "</table>\n",
       "</div>"
      ],
      "text/plain": [
       "                tweet_id                                            jpg_url  \\\n",
       "169   668989615043424256    https://pbs.twimg.com/media/CUi6geuUYAIvE9n.jpg   \n",
       "783   690015576308211712    https://pbs.twimg.com/media/CZNtgWhWkAAbq3W.jpg   \n",
       "274   670833812859932673    https://pbs.twimg.com/media/CU9HyzSWIAAVcte.jpg   \n",
       "1332  757725642876129280    https://pbs.twimg.com/media/CoP7c4bWcAAr55g.jpg   \n",
       "38    666644823164719104    https://pbs.twimg.com/media/CUBl6IwVAAA9_zT.jpg   \n",
       "1154  732732193018155009    https://pbs.twimg.com/media/CiswCQhWYAI5-QW.jpg   \n",
       "1970  868880397819494401    https://pbs.twimg.com/media/DA7iHL5U0AA1OQo.jpg   \n",
       "820   692919143163629568    https://pbs.twimg.com/media/CZ2-SRiWcAIjuM5.jpg   \n",
       "1478  780601303617732608    https://pbs.twimg.com/media/CtVAvX-WIAAcGTf.jpg   \n",
       "604   679854723806179328    https://pbs.twimg.com/media/CW9UQ7oWkAAErmU.jpg   \n",
       "1878  846153765933735936    https://pbs.twimg.com/media/C74kWqoU8AEaf3v.jpg   \n",
       "1166  735635087207878657    https://pbs.twimg.com/media/CjWANBlVAAAaN-a.jpg   \n",
       "1137  728986383096946689    https://pbs.twimg.com/media/Ch3hOGWUYAE7w0y.jpg   \n",
       "924   702321140488925184    https://pbs.twimg.com/media/Cb8lWafWEAA2q93.jpg   \n",
       "1590  798644042770751489    https://pbs.twimg.com/media/CU3mITUWIAAfyQS.jpg   \n",
       "652   682032003584274432    https://pbs.twimg.com/media/CXcQfUNUQAEwFoQ.jpg   \n",
       "2059  889278841981685760  https://pbs.twimg.com/ext_tw_video_thumb/88927...   \n",
       "448   674690135443775488    https://pbs.twimg.com/media/CVz7FxXWUAAlTRP.jpg   \n",
       "1475  780476555013349377  https://pbs.twimg.com/tweet_video_thumb/CtTFZZ...   \n",
       "19    666273097616637952    https://pbs.twimg.com/media/CT8T1mtUwAA3aqm.jpg   \n",
       "\n",
       "      img_num                           p1   p1_conf  p1_dog  \\\n",
       "169         1                          pug  0.917326    True   \n",
       "783         2                     malamute  0.949609    True   \n",
       "274         1                     Pekinese  0.609853    True   \n",
       "1332        2                    seat_belt  0.425176   False   \n",
       "38          1                 Ibizan_hound  0.044333    True   \n",
       "1154        1                        koala  0.162935   False   \n",
       "1970        1                       laptop  0.153718   False   \n",
       "820         1                Saint_Bernard  0.612635    True   \n",
       "1478        1                Saint_Bernard  0.995143    True   \n",
       "604         1                        llama  0.887963   False   \n",
       "1878        1              giant_schnauzer  0.346468    True   \n",
       "1166        1                          pug  0.891871    True   \n",
       "1137        2                  Maltese_dog  0.952070    True   \n",
       "924         3  West_Highland_white_terrier  0.769159    True   \n",
       "1590        1             English_springer  0.403698    True   \n",
       "652         1                   schipperke  0.997953    True   \n",
       "2059        1                      whippet  0.626152    True   \n",
       "448         1                         tick  0.242538   False   \n",
       "1475        1                          pug  0.919255    True   \n",
       "19          1            Italian_greyhound  0.176053    True   \n",
       "\n",
       "                             p2   p2_conf  p2_dog  \\\n",
       "169                 waffle_iron  0.014918   False   \n",
       "783              Siberian_husky  0.033084    True   \n",
       "274                 Persian_cat  0.265442   False   \n",
       "1332         Labrador_retriever  0.128128    True   \n",
       "38                     Pembroke  0.043209    True   \n",
       "1154  Staffordshire_bullterrier  0.127969    True   \n",
       "1970             French_bulldog  0.099984    True   \n",
       "820            English_springer  0.269744    True   \n",
       "1478                   Cardigan  0.003044    True   \n",
       "604                         ram  0.095021   False   \n",
       "1878      flat-coated_retriever  0.218451    True   \n",
       "1166                      goose  0.014377   False   \n",
       "1137                 toy_poodle  0.027271    True   \n",
       "924              Scotch_terrier  0.064369    True   \n",
       "1590           Brittany_spaniel  0.347609    True   \n",
       "652                 groenendael  0.000676    True   \n",
       "2059                     borzoi  0.194742    True   \n",
       "448                        nail  0.212589   False   \n",
       "1475             French_bulldog  0.032350    True   \n",
       "19                  toy_terrier  0.111884    True   \n",
       "\n",
       "                               p3   p3_conf  p3_dog  \n",
       "169                     Chihuahua  0.013524    True  \n",
       "783                    Eskimo_dog  0.016663    True  \n",
       "274              Japanese_spaniel  0.027460    True  \n",
       "1332                  Siamese_cat  0.091241   False  \n",
       "38    West_Highland_white_terrier  0.038906    True  \n",
       "1154                     mongoose  0.096421   False  \n",
       "1970                      printer  0.077130   False  \n",
       "820                         boxer  0.048666    True  \n",
       "1478             English_springer  0.001050    True  \n",
       "604                          chow  0.002307    True  \n",
       "1878           Labrador_retriever  0.108020    True  \n",
       "1166                     fur_coat  0.008451   False  \n",
       "1137             miniature_poodle  0.004874    True  \n",
       "924          Old_English_sheepdog  0.043763    True  \n",
       "1590       Welsh_springer_spaniel  0.137186    True  \n",
       "652            miniature_pinscher  0.000211    True  \n",
       "2059                       Saluki  0.027351    True  \n",
       "448                         screw  0.172838   False  \n",
       "1475                 bull_mastiff  0.028468    True  \n",
       "19                        basenji  0.111152    True  "
      ]
     },
     "execution_count": 16,
     "metadata": {},
     "output_type": "execute_result"
    }
   ],
   "source": [
    "df_image.sample(20)"
   ]
  },
  {
   "cell_type": "code",
   "execution_count": 17,
   "metadata": {},
   "outputs": [
    {
     "name": "stdout",
     "output_type": "stream",
     "text": [
      "<class 'pandas.core.frame.DataFrame'>\n",
      "RangeIndex: 2075 entries, 0 to 2074\n",
      "Data columns (total 12 columns):\n",
      " #   Column    Non-Null Count  Dtype  \n",
      "---  ------    --------------  -----  \n",
      " 0   tweet_id  2075 non-null   int64  \n",
      " 1   jpg_url   2075 non-null   object \n",
      " 2   img_num   2075 non-null   int64  \n",
      " 3   p1        2075 non-null   object \n",
      " 4   p1_conf   2075 non-null   float64\n",
      " 5   p1_dog    2075 non-null   bool   \n",
      " 6   p2        2075 non-null   object \n",
      " 7   p2_conf   2075 non-null   float64\n",
      " 8   p2_dog    2075 non-null   bool   \n",
      " 9   p3        2075 non-null   object \n",
      " 10  p3_conf   2075 non-null   float64\n",
      " 11  p3_dog    2075 non-null   bool   \n",
      "dtypes: bool(3), float64(3), int64(2), object(4)\n",
      "memory usage: 152.1+ KB\n"
     ]
    }
   ],
   "source": [
    "df_image.info()"
   ]
  },
  {
   "cell_type": "code",
   "execution_count": 18,
   "metadata": {},
   "outputs": [
    {
     "data": {
      "text/plain": [
       "0"
      ]
     },
     "execution_count": 18,
     "metadata": {},
     "output_type": "execute_result"
    }
   ],
   "source": [
    "df_image.duplicated().sum()"
   ]
  },
  {
   "cell_type": "code",
   "execution_count": 19,
   "metadata": {},
   "outputs": [
    {
     "data": {
      "text/plain": [
       "array([1, 4, 2, 3], dtype=int64)"
      ]
     },
     "execution_count": 19,
     "metadata": {},
     "output_type": "execute_result"
    }
   ],
   "source": [
    "df_image['img_num'].unique()"
   ]
  },
  {
   "cell_type": "code",
   "execution_count": 20,
   "metadata": {
    "scrolled": true
   },
   "outputs": [
    {
     "data": {
      "text/html": [
       "<div>\n",
       "<style scoped>\n",
       "    .dataframe tbody tr th:only-of-type {\n",
       "        vertical-align: middle;\n",
       "    }\n",
       "\n",
       "    .dataframe tbody tr th {\n",
       "        vertical-align: top;\n",
       "    }\n",
       "\n",
       "    .dataframe thead th {\n",
       "        text-align: right;\n",
       "    }\n",
       "</style>\n",
       "<table border=\"1\" class=\"dataframe\">\n",
       "  <thead>\n",
       "    <tr style=\"text-align: right;\">\n",
       "      <th></th>\n",
       "      <th>created_at</th>\n",
       "      <th>id</th>\n",
       "      <th>id_str</th>\n",
       "      <th>full_text</th>\n",
       "      <th>truncated</th>\n",
       "      <th>display_text_range</th>\n",
       "      <th>entities</th>\n",
       "      <th>extended_entities</th>\n",
       "      <th>source</th>\n",
       "      <th>in_reply_to_status_id</th>\n",
       "      <th>...</th>\n",
       "      <th>favorited</th>\n",
       "      <th>retweeted</th>\n",
       "      <th>possibly_sensitive</th>\n",
       "      <th>possibly_sensitive_appealable</th>\n",
       "      <th>lang</th>\n",
       "      <th>retweeted_status</th>\n",
       "      <th>quoted_status_id</th>\n",
       "      <th>quoted_status_id_str</th>\n",
       "      <th>quoted_status_permalink</th>\n",
       "      <th>quoted_status</th>\n",
       "    </tr>\n",
       "  </thead>\n",
       "  <tbody>\n",
       "    <tr>\n",
       "      <th>110</th>\n",
       "      <td>2017-06-02 15:00:16+00:00</td>\n",
       "      <td>870656317836468226</td>\n",
       "      <td>870656317836468224</td>\n",
       "      <td>This is Cody. He zoomed too aggressively and t...</td>\n",
       "      <td>False</td>\n",
       "      <td>[0, 138]</td>\n",
       "      <td>{'hashtags': [], 'symbols': [], 'user_mentions...</td>\n",
       "      <td>{'media': [{'id': 870656293136216066, 'id_str'...</td>\n",
       "      <td>&lt;a href=\"http://twitter.com/download/iphone\" r...</td>\n",
       "      <td>NaN</td>\n",
       "      <td>...</td>\n",
       "      <td>False</td>\n",
       "      <td>False</td>\n",
       "      <td>0.0</td>\n",
       "      <td>0.0</td>\n",
       "      <td>en</td>\n",
       "      <td>NaN</td>\n",
       "      <td>NaN</td>\n",
       "      <td>NaN</td>\n",
       "      <td>NaN</td>\n",
       "      <td>NaN</td>\n",
       "    </tr>\n",
       "    <tr>\n",
       "      <th>226</th>\n",
       "      <td>2017-03-29 18:43:12+00:00</td>\n",
       "      <td>847157206088847362</td>\n",
       "      <td>847157206088847360</td>\n",
       "      <td>Meet Daisy. She's been pup for adoption for mo...</td>\n",
       "      <td>False</td>\n",
       "      <td>[0, 139]</td>\n",
       "      <td>{'hashtags': [], 'symbols': [], 'user_mentions...</td>\n",
       "      <td>{'media': [{'id': 847157199944208384, 'id_str'...</td>\n",
       "      <td>&lt;a href=\"http://twitter.com/download/iphone\" r...</td>\n",
       "      <td>NaN</td>\n",
       "      <td>...</td>\n",
       "      <td>False</td>\n",
       "      <td>False</td>\n",
       "      <td>0.0</td>\n",
       "      <td>0.0</td>\n",
       "      <td>en</td>\n",
       "      <td>NaN</td>\n",
       "      <td>NaN</td>\n",
       "      <td>NaN</td>\n",
       "      <td>NaN</td>\n",
       "      <td>NaN</td>\n",
       "    </tr>\n",
       "    <tr>\n",
       "      <th>1144</th>\n",
       "      <td>2016-04-13 23:15:21+00:00</td>\n",
       "      <td>720389942216527872</td>\n",
       "      <td>720389942216527872</td>\n",
       "      <td>This is Ralphé. He patrols the lake. Looking f...</td>\n",
       "      <td>False</td>\n",
       "      <td>[0, 85]</td>\n",
       "      <td>{'hashtags': [], 'symbols': [], 'user_mentions...</td>\n",
       "      <td>{'media': [{'id': 720389936612913153, 'id_str'...</td>\n",
       "      <td>&lt;a href=\"http://twitter.com/download/iphone\" r...</td>\n",
       "      <td>NaN</td>\n",
       "      <td>...</td>\n",
       "      <td>False</td>\n",
       "      <td>False</td>\n",
       "      <td>0.0</td>\n",
       "      <td>0.0</td>\n",
       "      <td>en</td>\n",
       "      <td>NaN</td>\n",
       "      <td>NaN</td>\n",
       "      <td>NaN</td>\n",
       "      <td>NaN</td>\n",
       "      <td>NaN</td>\n",
       "    </tr>\n",
       "    <tr>\n",
       "      <th>2245</th>\n",
       "      <td>2015-11-19 21:32:34+00:00</td>\n",
       "      <td>667455448082227200</td>\n",
       "      <td>667455448082227200</td>\n",
       "      <td>This is Reese and Twips. Reese protects Twips....</td>\n",
       "      <td>False</td>\n",
       "      <td>[0, 137]</td>\n",
       "      <td>{'hashtags': [], 'symbols': [], 'user_mentions...</td>\n",
       "      <td>{'media': [{'id': 667455447520047104, 'id_str'...</td>\n",
       "      <td>&lt;a href=\"http://twitter.com\" rel=\"nofollow\"&gt;Tw...</td>\n",
       "      <td>NaN</td>\n",
       "      <td>...</td>\n",
       "      <td>False</td>\n",
       "      <td>False</td>\n",
       "      <td>0.0</td>\n",
       "      <td>0.0</td>\n",
       "      <td>en</td>\n",
       "      <td>NaN</td>\n",
       "      <td>NaN</td>\n",
       "      <td>NaN</td>\n",
       "      <td>NaN</td>\n",
       "      <td>NaN</td>\n",
       "    </tr>\n",
       "    <tr>\n",
       "      <th>3</th>\n",
       "      <td>2017-07-30 15:58:51+00:00</td>\n",
       "      <td>891689557279858688</td>\n",
       "      <td>891689557279858688</td>\n",
       "      <td>This is Darla. She commenced a snooze mid meal...</td>\n",
       "      <td>False</td>\n",
       "      <td>[0, 79]</td>\n",
       "      <td>{'hashtags': [], 'symbols': [], 'user_mentions...</td>\n",
       "      <td>{'media': [{'id': 891689552724799489, 'id_str'...</td>\n",
       "      <td>&lt;a href=\"http://twitter.com/download/iphone\" r...</td>\n",
       "      <td>NaN</td>\n",
       "      <td>...</td>\n",
       "      <td>False</td>\n",
       "      <td>False</td>\n",
       "      <td>0.0</td>\n",
       "      <td>0.0</td>\n",
       "      <td>en</td>\n",
       "      <td>NaN</td>\n",
       "      <td>NaN</td>\n",
       "      <td>NaN</td>\n",
       "      <td>NaN</td>\n",
       "      <td>NaN</td>\n",
       "    </tr>\n",
       "    <tr>\n",
       "      <th>1920</th>\n",
       "      <td>2015-12-07 02:25:23+00:00</td>\n",
       "      <td>673689733134946305</td>\n",
       "      <td>673689733134946304</td>\n",
       "      <td>When you're having a blast and remember tomorr...</td>\n",
       "      <td>False</td>\n",
       "      <td>[0, 88]</td>\n",
       "      <td>{'hashtags': [], 'symbols': [], 'user_mentions...</td>\n",
       "      <td>{'media': [{'id': 673689698171228160, 'id_str'...</td>\n",
       "      <td>&lt;a href=\"http://twitter.com/download/iphone\" r...</td>\n",
       "      <td>NaN</td>\n",
       "      <td>...</td>\n",
       "      <td>False</td>\n",
       "      <td>False</td>\n",
       "      <td>0.0</td>\n",
       "      <td>0.0</td>\n",
       "      <td>en</td>\n",
       "      <td>NaN</td>\n",
       "      <td>NaN</td>\n",
       "      <td>NaN</td>\n",
       "      <td>NaN</td>\n",
       "      <td>NaN</td>\n",
       "    </tr>\n",
       "    <tr>\n",
       "      <th>1468</th>\n",
       "      <td>2016-01-28 02:12:04+00:00</td>\n",
       "      <td>692530551048294401</td>\n",
       "      <td>692530551048294400</td>\n",
       "      <td>Say hello to Cody. He's been to like 80 countr...</td>\n",
       "      <td>False</td>\n",
       "      <td>[0, 140]</td>\n",
       "      <td>{'hashtags': [], 'symbols': [], 'user_mentions...</td>\n",
       "      <td>{'media': [{'id': 692530544530296832, 'id_str'...</td>\n",
       "      <td>&lt;a href=\"http://twitter.com/download/iphone\" r...</td>\n",
       "      <td>NaN</td>\n",
       "      <td>...</td>\n",
       "      <td>False</td>\n",
       "      <td>False</td>\n",
       "      <td>0.0</td>\n",
       "      <td>0.0</td>\n",
       "      <td>en</td>\n",
       "      <td>NaN</td>\n",
       "      <td>NaN</td>\n",
       "      <td>NaN</td>\n",
       "      <td>NaN</td>\n",
       "      <td>NaN</td>\n",
       "    </tr>\n",
       "    <tr>\n",
       "      <th>2050</th>\n",
       "      <td>2015-11-29 04:47:03+00:00</td>\n",
       "      <td>670826280409919488</td>\n",
       "      <td>670826280409919488</td>\n",
       "      <td>Scary dog here. Too many legs. Extra tail. Not...</td>\n",
       "      <td>False</td>\n",
       "      <td>[0, 139]</td>\n",
       "      <td>{'hashtags': [], 'symbols': [], 'user_mentions...</td>\n",
       "      <td>{'media': [{'id': 670826275943133184, 'id_str'...</td>\n",
       "      <td>&lt;a href=\"http://twitter.com/download/iphone\" r...</td>\n",
       "      <td>NaN</td>\n",
       "      <td>...</td>\n",
       "      <td>False</td>\n",
       "      <td>False</td>\n",
       "      <td>0.0</td>\n",
       "      <td>0.0</td>\n",
       "      <td>en</td>\n",
       "      <td>NaN</td>\n",
       "      <td>NaN</td>\n",
       "      <td>NaN</td>\n",
       "      <td>NaN</td>\n",
       "      <td>NaN</td>\n",
       "    </tr>\n",
       "    <tr>\n",
       "      <th>947</th>\n",
       "      <td>2016-07-04 19:00:33+00:00</td>\n",
       "      <td>750041628174217216</td>\n",
       "      <td>750041628174217216</td>\n",
       "      <td>This is Beau. He's trying to keep his daddy fr...</td>\n",
       "      <td>False</td>\n",
       "      <td>[0, 111]</td>\n",
       "      <td>{'hashtags': [], 'symbols': [], 'user_mentions...</td>\n",
       "      <td>{'media': [{'id': 749828107587248128, 'id_str'...</td>\n",
       "      <td>&lt;a href=\"https://about.twitter.com/products/tw...</td>\n",
       "      <td>NaN</td>\n",
       "      <td>...</td>\n",
       "      <td>False</td>\n",
       "      <td>False</td>\n",
       "      <td>0.0</td>\n",
       "      <td>0.0</td>\n",
       "      <td>en</td>\n",
       "      <td>NaN</td>\n",
       "      <td>NaN</td>\n",
       "      <td>NaN</td>\n",
       "      <td>NaN</td>\n",
       "      <td>NaN</td>\n",
       "    </tr>\n",
       "    <tr>\n",
       "      <th>657</th>\n",
       "      <td>2016-10-21 01:42:53+00:00</td>\n",
       "      <td>789280767834746880</td>\n",
       "      <td>789280767834746880</td>\n",
       "      <td>RT @dog_rates: This is Meyer. He has to hold s...</td>\n",
       "      <td>False</td>\n",
       "      <td>[0, 140]</td>\n",
       "      <td>{'hashtags': [], 'symbols': [], 'user_mentions...</td>\n",
       "      <td>NaN</td>\n",
       "      <td>&lt;a href=\"http://twitter.com/download/iphone\" r...</td>\n",
       "      <td>NaN</td>\n",
       "      <td>...</td>\n",
       "      <td>False</td>\n",
       "      <td>False</td>\n",
       "      <td>NaN</td>\n",
       "      <td>NaN</td>\n",
       "      <td>en</td>\n",
       "      <td>{'created_at': 'Wed Jul 06 15:54:42 +0000 2016...</td>\n",
       "      <td>NaN</td>\n",
       "      <td>NaN</td>\n",
       "      <td>NaN</td>\n",
       "      <td>NaN</td>\n",
       "    </tr>\n",
       "    <tr>\n",
       "      <th>1880</th>\n",
       "      <td>2015-12-09 02:56:22+00:00</td>\n",
       "      <td>674422304705744896</td>\n",
       "      <td>674422304705744896</td>\n",
       "      <td>This is Ava. She doesn't understand flowers. 1...</td>\n",
       "      <td>False</td>\n",
       "      <td>[0, 94]</td>\n",
       "      <td>{'hashtags': [], 'symbols': [], 'user_mentions...</td>\n",
       "      <td>{'media': [{'id': 674422297940357120, 'id_str'...</td>\n",
       "      <td>&lt;a href=\"http://twitter.com/download/iphone\" r...</td>\n",
       "      <td>NaN</td>\n",
       "      <td>...</td>\n",
       "      <td>False</td>\n",
       "      <td>False</td>\n",
       "      <td>0.0</td>\n",
       "      <td>0.0</td>\n",
       "      <td>en</td>\n",
       "      <td>NaN</td>\n",
       "      <td>NaN</td>\n",
       "      <td>NaN</td>\n",
       "      <td>NaN</td>\n",
       "      <td>NaN</td>\n",
       "    </tr>\n",
       "    <tr>\n",
       "      <th>525</th>\n",
       "      <td>2016-12-06 00:32:26+00:00</td>\n",
       "      <td>805932879469572096</td>\n",
       "      <td>805932879469572096</td>\n",
       "      <td>This is Major. He put on a tie for his first r...</td>\n",
       "      <td>False</td>\n",
       "      <td>[0, 125]</td>\n",
       "      <td>{'hashtags': [], 'symbols': [], 'user_mentions...</td>\n",
       "      <td>{'media': [{'id': 805932861408694272, 'id_str'...</td>\n",
       "      <td>&lt;a href=\"http://twitter.com/download/iphone\" r...</td>\n",
       "      <td>NaN</td>\n",
       "      <td>...</td>\n",
       "      <td>False</td>\n",
       "      <td>False</td>\n",
       "      <td>0.0</td>\n",
       "      <td>0.0</td>\n",
       "      <td>en</td>\n",
       "      <td>NaN</td>\n",
       "      <td>NaN</td>\n",
       "      <td>NaN</td>\n",
       "      <td>NaN</td>\n",
       "      <td>NaN</td>\n",
       "    </tr>\n",
       "    <tr>\n",
       "      <th>1473</th>\n",
       "      <td>2016-01-27 00:31:15+00:00</td>\n",
       "      <td>692142790915014657</td>\n",
       "      <td>692142790915014656</td>\n",
       "      <td>These are some pictures of Teddy that further ...</td>\n",
       "      <td>False</td>\n",
       "      <td>[0, 108]</td>\n",
       "      <td>{'hashtags': [], 'symbols': [], 'user_mentions...</td>\n",
       "      <td>{'media': [{'id': 692142771344400384, 'id_str'...</td>\n",
       "      <td>&lt;a href=\"http://twitter.com/download/iphone\" r...</td>\n",
       "      <td>6.920419e+17</td>\n",
       "      <td>...</td>\n",
       "      <td>False</td>\n",
       "      <td>False</td>\n",
       "      <td>0.0</td>\n",
       "      <td>0.0</td>\n",
       "      <td>en</td>\n",
       "      <td>NaN</td>\n",
       "      <td>NaN</td>\n",
       "      <td>NaN</td>\n",
       "      <td>NaN</td>\n",
       "      <td>NaN</td>\n",
       "    </tr>\n",
       "    <tr>\n",
       "      <th>598</th>\n",
       "      <td>2016-11-09 02:29:25+00:00</td>\n",
       "      <td>796177847564038144</td>\n",
       "      <td>796177847564038144</td>\n",
       "      <td>RT @dog_rates: This is Ruby. She just turned o...</td>\n",
       "      <td>False</td>\n",
       "      <td>[0, 127]</td>\n",
       "      <td>{'hashtags': [], 'symbols': [], 'user_mentions...</td>\n",
       "      <td>{'media': [{'id': 796149732779421699, 'id_str'...</td>\n",
       "      <td>&lt;a href=\"http://twitter.com/download/iphone\" r...</td>\n",
       "      <td>NaN</td>\n",
       "      <td>...</td>\n",
       "      <td>False</td>\n",
       "      <td>False</td>\n",
       "      <td>0.0</td>\n",
       "      <td>0.0</td>\n",
       "      <td>en</td>\n",
       "      <td>{'created_at': 'Wed Nov 09 00:37:46 +0000 2016...</td>\n",
       "      <td>NaN</td>\n",
       "      <td>NaN</td>\n",
       "      <td>NaN</td>\n",
       "      <td>NaN</td>\n",
       "    </tr>\n",
       "    <tr>\n",
       "      <th>1412</th>\n",
       "      <td>2016-02-09 02:40:05+00:00</td>\n",
       "      <td>696886256886657024</td>\n",
       "      <td>696886256886657024</td>\n",
       "      <td>Guys I found the dog from Up. 12/10 https://t....</td>\n",
       "      <td>False</td>\n",
       "      <td>[0, 59]</td>\n",
       "      <td>{'hashtags': [], 'symbols': [], 'user_mentions...</td>\n",
       "      <td>{'media': [{'id': 696886248611381248, 'id_str'...</td>\n",
       "      <td>&lt;a href=\"http://twitter.com/download/iphone\" r...</td>\n",
       "      <td>NaN</td>\n",
       "      <td>...</td>\n",
       "      <td>False</td>\n",
       "      <td>False</td>\n",
       "      <td>0.0</td>\n",
       "      <td>0.0</td>\n",
       "      <td>en</td>\n",
       "      <td>NaN</td>\n",
       "      <td>NaN</td>\n",
       "      <td>NaN</td>\n",
       "      <td>NaN</td>\n",
       "      <td>NaN</td>\n",
       "    </tr>\n",
       "    <tr>\n",
       "      <th>518</th>\n",
       "      <td>2016-12-07 22:38:52+00:00</td>\n",
       "      <td>806629075125202948</td>\n",
       "      <td>806629075125202944</td>\n",
       "      <td>\"Good afternoon class today we're going to lea...</td>\n",
       "      <td>False</td>\n",
       "      <td>[0, 85]</td>\n",
       "      <td>{'hashtags': [], 'symbols': [], 'user_mentions...</td>\n",
       "      <td>{'media': [{'id': 806629061598597121, 'id_str'...</td>\n",
       "      <td>&lt;a href=\"http://twitter.com/download/iphone\" r...</td>\n",
       "      <td>NaN</td>\n",
       "      <td>...</td>\n",
       "      <td>False</td>\n",
       "      <td>False</td>\n",
       "      <td>0.0</td>\n",
       "      <td>0.0</td>\n",
       "      <td>en</td>\n",
       "      <td>NaN</td>\n",
       "      <td>NaN</td>\n",
       "      <td>NaN</td>\n",
       "      <td>NaN</td>\n",
       "      <td>NaN</td>\n",
       "    </tr>\n",
       "    <tr>\n",
       "      <th>806</th>\n",
       "      <td>2016-08-25 16:58:45+00:00</td>\n",
       "      <td>768855141948723200</td>\n",
       "      <td>768855141948723200</td>\n",
       "      <td>This is Jesse. He really wants a belly rub. Wi...</td>\n",
       "      <td>False</td>\n",
       "      <td>[0, 99]</td>\n",
       "      <td>{'hashtags': [], 'symbols': [], 'user_mentions...</td>\n",
       "      <td>{'media': [{'id': 768855135757926400, 'id_str'...</td>\n",
       "      <td>&lt;a href=\"http://twitter.com/download/iphone\" r...</td>\n",
       "      <td>NaN</td>\n",
       "      <td>...</td>\n",
       "      <td>False</td>\n",
       "      <td>False</td>\n",
       "      <td>0.0</td>\n",
       "      <td>0.0</td>\n",
       "      <td>en</td>\n",
       "      <td>NaN</td>\n",
       "      <td>NaN</td>\n",
       "      <td>NaN</td>\n",
       "      <td>NaN</td>\n",
       "      <td>NaN</td>\n",
       "    </tr>\n",
       "    <tr>\n",
       "      <th>447</th>\n",
       "      <td>2017-01-06 01:31:47+00:00</td>\n",
       "      <td>817181837579653120</td>\n",
       "      <td>817181837579653120</td>\n",
       "      <td>RT @dog_rates: Here's a pupper with squeaky hi...</td>\n",
       "      <td>False</td>\n",
       "      <td>[0, 96]</td>\n",
       "      <td>{'hashtags': [], 'symbols': [], 'user_mentions...</td>\n",
       "      <td>{'media': [{'id': 815965888126062592, 'id_str'...</td>\n",
       "      <td>&lt;a href=\"http://twitter.com/download/iphone\" r...</td>\n",
       "      <td>NaN</td>\n",
       "      <td>...</td>\n",
       "      <td>False</td>\n",
       "      <td>False</td>\n",
       "      <td>0.0</td>\n",
       "      <td>0.0</td>\n",
       "      <td>en</td>\n",
       "      <td>{'created_at': 'Mon Jan 02 17:00:46 +0000 2017...</td>\n",
       "      <td>NaN</td>\n",
       "      <td>NaN</td>\n",
       "      <td>NaN</td>\n",
       "      <td>NaN</td>\n",
       "    </tr>\n",
       "    <tr>\n",
       "      <th>324</th>\n",
       "      <td>2017-02-16 13:11:49+00:00</td>\n",
       "      <td>832215909146226688</td>\n",
       "      <td>832215909146226688</td>\n",
       "      <td>RT @dog_rates: This is Logan, the Chow who liv...</td>\n",
       "      <td>False</td>\n",
       "      <td>[0, 140]</td>\n",
       "      <td>{'hashtags': [], 'symbols': [], 'user_mentions...</td>\n",
       "      <td>NaN</td>\n",
       "      <td>&lt;a href=\"http://twitter.com/download/iphone\" r...</td>\n",
       "      <td>NaN</td>\n",
       "      <td>...</td>\n",
       "      <td>False</td>\n",
       "      <td>False</td>\n",
       "      <td>NaN</td>\n",
       "      <td>NaN</td>\n",
       "      <td>en</td>\n",
       "      <td>{'created_at': 'Thu Oct 13 23:23:56 +0000 2016...</td>\n",
       "      <td>NaN</td>\n",
       "      <td>NaN</td>\n",
       "      <td>NaN</td>\n",
       "      <td>NaN</td>\n",
       "    </tr>\n",
       "    <tr>\n",
       "      <th>2241</th>\n",
       "      <td>2015-11-20 00:40:05+00:00</td>\n",
       "      <td>667502640335572993</td>\n",
       "      <td>667502640335572992</td>\n",
       "      <td>Say hello to Hall and Oates. Oates is winking ...</td>\n",
       "      <td>False</td>\n",
       "      <td>[0, 140]</td>\n",
       "      <td>{'hashtags': [], 'symbols': [], 'user_mentions...</td>\n",
       "      <td>{'media': [{'id': 667502639517556736, 'id_str'...</td>\n",
       "      <td>&lt;a href=\"http://twitter.com\" rel=\"nofollow\"&gt;Tw...</td>\n",
       "      <td>NaN</td>\n",
       "      <td>...</td>\n",
       "      <td>False</td>\n",
       "      <td>False</td>\n",
       "      <td>0.0</td>\n",
       "      <td>0.0</td>\n",
       "      <td>en</td>\n",
       "      <td>NaN</td>\n",
       "      <td>NaN</td>\n",
       "      <td>NaN</td>\n",
       "      <td>NaN</td>\n",
       "      <td>NaN</td>\n",
       "    </tr>\n",
       "  </tbody>\n",
       "</table>\n",
       "<p>20 rows × 32 columns</p>\n",
       "</div>"
      ],
      "text/plain": [
       "                    created_at                  id              id_str  \\\n",
       "110  2017-06-02 15:00:16+00:00  870656317836468226  870656317836468224   \n",
       "226  2017-03-29 18:43:12+00:00  847157206088847362  847157206088847360   \n",
       "1144 2016-04-13 23:15:21+00:00  720389942216527872  720389942216527872   \n",
       "2245 2015-11-19 21:32:34+00:00  667455448082227200  667455448082227200   \n",
       "3    2017-07-30 15:58:51+00:00  891689557279858688  891689557279858688   \n",
       "1920 2015-12-07 02:25:23+00:00  673689733134946305  673689733134946304   \n",
       "1468 2016-01-28 02:12:04+00:00  692530551048294401  692530551048294400   \n",
       "2050 2015-11-29 04:47:03+00:00  670826280409919488  670826280409919488   \n",
       "947  2016-07-04 19:00:33+00:00  750041628174217216  750041628174217216   \n",
       "657  2016-10-21 01:42:53+00:00  789280767834746880  789280767834746880   \n",
       "1880 2015-12-09 02:56:22+00:00  674422304705744896  674422304705744896   \n",
       "525  2016-12-06 00:32:26+00:00  805932879469572096  805932879469572096   \n",
       "1473 2016-01-27 00:31:15+00:00  692142790915014657  692142790915014656   \n",
       "598  2016-11-09 02:29:25+00:00  796177847564038144  796177847564038144   \n",
       "1412 2016-02-09 02:40:05+00:00  696886256886657024  696886256886657024   \n",
       "518  2016-12-07 22:38:52+00:00  806629075125202948  806629075125202944   \n",
       "806  2016-08-25 16:58:45+00:00  768855141948723200  768855141948723200   \n",
       "447  2017-01-06 01:31:47+00:00  817181837579653120  817181837579653120   \n",
       "324  2017-02-16 13:11:49+00:00  832215909146226688  832215909146226688   \n",
       "2241 2015-11-20 00:40:05+00:00  667502640335572993  667502640335572992   \n",
       "\n",
       "                                              full_text  truncated  \\\n",
       "110   This is Cody. He zoomed too aggressively and t...      False   \n",
       "226   Meet Daisy. She's been pup for adoption for mo...      False   \n",
       "1144  This is Ralphé. He patrols the lake. Looking f...      False   \n",
       "2245  This is Reese and Twips. Reese protects Twips....      False   \n",
       "3     This is Darla. She commenced a snooze mid meal...      False   \n",
       "1920  When you're having a blast and remember tomorr...      False   \n",
       "1468  Say hello to Cody. He's been to like 80 countr...      False   \n",
       "2050  Scary dog here. Too many legs. Extra tail. Not...      False   \n",
       "947   This is Beau. He's trying to keep his daddy fr...      False   \n",
       "657   RT @dog_rates: This is Meyer. He has to hold s...      False   \n",
       "1880  This is Ava. She doesn't understand flowers. 1...      False   \n",
       "525   This is Major. He put on a tie for his first r...      False   \n",
       "1473  These are some pictures of Teddy that further ...      False   \n",
       "598   RT @dog_rates: This is Ruby. She just turned o...      False   \n",
       "1412  Guys I found the dog from Up. 12/10 https://t....      False   \n",
       "518   \"Good afternoon class today we're going to lea...      False   \n",
       "806   This is Jesse. He really wants a belly rub. Wi...      False   \n",
       "447   RT @dog_rates: Here's a pupper with squeaky hi...      False   \n",
       "324   RT @dog_rates: This is Logan, the Chow who liv...      False   \n",
       "2241  Say hello to Hall and Oates. Oates is winking ...      False   \n",
       "\n",
       "     display_text_range                                           entities  \\\n",
       "110            [0, 138]  {'hashtags': [], 'symbols': [], 'user_mentions...   \n",
       "226            [0, 139]  {'hashtags': [], 'symbols': [], 'user_mentions...   \n",
       "1144            [0, 85]  {'hashtags': [], 'symbols': [], 'user_mentions...   \n",
       "2245           [0, 137]  {'hashtags': [], 'symbols': [], 'user_mentions...   \n",
       "3               [0, 79]  {'hashtags': [], 'symbols': [], 'user_mentions...   \n",
       "1920            [0, 88]  {'hashtags': [], 'symbols': [], 'user_mentions...   \n",
       "1468           [0, 140]  {'hashtags': [], 'symbols': [], 'user_mentions...   \n",
       "2050           [0, 139]  {'hashtags': [], 'symbols': [], 'user_mentions...   \n",
       "947            [0, 111]  {'hashtags': [], 'symbols': [], 'user_mentions...   \n",
       "657            [0, 140]  {'hashtags': [], 'symbols': [], 'user_mentions...   \n",
       "1880            [0, 94]  {'hashtags': [], 'symbols': [], 'user_mentions...   \n",
       "525            [0, 125]  {'hashtags': [], 'symbols': [], 'user_mentions...   \n",
       "1473           [0, 108]  {'hashtags': [], 'symbols': [], 'user_mentions...   \n",
       "598            [0, 127]  {'hashtags': [], 'symbols': [], 'user_mentions...   \n",
       "1412            [0, 59]  {'hashtags': [], 'symbols': [], 'user_mentions...   \n",
       "518             [0, 85]  {'hashtags': [], 'symbols': [], 'user_mentions...   \n",
       "806             [0, 99]  {'hashtags': [], 'symbols': [], 'user_mentions...   \n",
       "447             [0, 96]  {'hashtags': [], 'symbols': [], 'user_mentions...   \n",
       "324            [0, 140]  {'hashtags': [], 'symbols': [], 'user_mentions...   \n",
       "2241           [0, 140]  {'hashtags': [], 'symbols': [], 'user_mentions...   \n",
       "\n",
       "                                      extended_entities  \\\n",
       "110   {'media': [{'id': 870656293136216066, 'id_str'...   \n",
       "226   {'media': [{'id': 847157199944208384, 'id_str'...   \n",
       "1144  {'media': [{'id': 720389936612913153, 'id_str'...   \n",
       "2245  {'media': [{'id': 667455447520047104, 'id_str'...   \n",
       "3     {'media': [{'id': 891689552724799489, 'id_str'...   \n",
       "1920  {'media': [{'id': 673689698171228160, 'id_str'...   \n",
       "1468  {'media': [{'id': 692530544530296832, 'id_str'...   \n",
       "2050  {'media': [{'id': 670826275943133184, 'id_str'...   \n",
       "947   {'media': [{'id': 749828107587248128, 'id_str'...   \n",
       "657                                                 NaN   \n",
       "1880  {'media': [{'id': 674422297940357120, 'id_str'...   \n",
       "525   {'media': [{'id': 805932861408694272, 'id_str'...   \n",
       "1473  {'media': [{'id': 692142771344400384, 'id_str'...   \n",
       "598   {'media': [{'id': 796149732779421699, 'id_str'...   \n",
       "1412  {'media': [{'id': 696886248611381248, 'id_str'...   \n",
       "518   {'media': [{'id': 806629061598597121, 'id_str'...   \n",
       "806   {'media': [{'id': 768855135757926400, 'id_str'...   \n",
       "447   {'media': [{'id': 815965888126062592, 'id_str'...   \n",
       "324                                                 NaN   \n",
       "2241  {'media': [{'id': 667502639517556736, 'id_str'...   \n",
       "\n",
       "                                                 source  \\\n",
       "110   <a href=\"http://twitter.com/download/iphone\" r...   \n",
       "226   <a href=\"http://twitter.com/download/iphone\" r...   \n",
       "1144  <a href=\"http://twitter.com/download/iphone\" r...   \n",
       "2245  <a href=\"http://twitter.com\" rel=\"nofollow\">Tw...   \n",
       "3     <a href=\"http://twitter.com/download/iphone\" r...   \n",
       "1920  <a href=\"http://twitter.com/download/iphone\" r...   \n",
       "1468  <a href=\"http://twitter.com/download/iphone\" r...   \n",
       "2050  <a href=\"http://twitter.com/download/iphone\" r...   \n",
       "947   <a href=\"https://about.twitter.com/products/tw...   \n",
       "657   <a href=\"http://twitter.com/download/iphone\" r...   \n",
       "1880  <a href=\"http://twitter.com/download/iphone\" r...   \n",
       "525   <a href=\"http://twitter.com/download/iphone\" r...   \n",
       "1473  <a href=\"http://twitter.com/download/iphone\" r...   \n",
       "598   <a href=\"http://twitter.com/download/iphone\" r...   \n",
       "1412  <a href=\"http://twitter.com/download/iphone\" r...   \n",
       "518   <a href=\"http://twitter.com/download/iphone\" r...   \n",
       "806   <a href=\"http://twitter.com/download/iphone\" r...   \n",
       "447   <a href=\"http://twitter.com/download/iphone\" r...   \n",
       "324   <a href=\"http://twitter.com/download/iphone\" r...   \n",
       "2241  <a href=\"http://twitter.com\" rel=\"nofollow\">Tw...   \n",
       "\n",
       "      in_reply_to_status_id  ...  favorited  retweeted  possibly_sensitive  \\\n",
       "110                     NaN  ...      False      False                 0.0   \n",
       "226                     NaN  ...      False      False                 0.0   \n",
       "1144                    NaN  ...      False      False                 0.0   \n",
       "2245                    NaN  ...      False      False                 0.0   \n",
       "3                       NaN  ...      False      False                 0.0   \n",
       "1920                    NaN  ...      False      False                 0.0   \n",
       "1468                    NaN  ...      False      False                 0.0   \n",
       "2050                    NaN  ...      False      False                 0.0   \n",
       "947                     NaN  ...      False      False                 0.0   \n",
       "657                     NaN  ...      False      False                 NaN   \n",
       "1880                    NaN  ...      False      False                 0.0   \n",
       "525                     NaN  ...      False      False                 0.0   \n",
       "1473           6.920419e+17  ...      False      False                 0.0   \n",
       "598                     NaN  ...      False      False                 0.0   \n",
       "1412                    NaN  ...      False      False                 0.0   \n",
       "518                     NaN  ...      False      False                 0.0   \n",
       "806                     NaN  ...      False      False                 0.0   \n",
       "447                     NaN  ...      False      False                 0.0   \n",
       "324                     NaN  ...      False      False                 NaN   \n",
       "2241                    NaN  ...      False      False                 0.0   \n",
       "\n",
       "     possibly_sensitive_appealable lang  \\\n",
       "110                            0.0   en   \n",
       "226                            0.0   en   \n",
       "1144                           0.0   en   \n",
       "2245                           0.0   en   \n",
       "3                              0.0   en   \n",
       "1920                           0.0   en   \n",
       "1468                           0.0   en   \n",
       "2050                           0.0   en   \n",
       "947                            0.0   en   \n",
       "657                            NaN   en   \n",
       "1880                           0.0   en   \n",
       "525                            0.0   en   \n",
       "1473                           0.0   en   \n",
       "598                            0.0   en   \n",
       "1412                           0.0   en   \n",
       "518                            0.0   en   \n",
       "806                            0.0   en   \n",
       "447                            0.0   en   \n",
       "324                            NaN   en   \n",
       "2241                           0.0   en   \n",
       "\n",
       "                                       retweeted_status  quoted_status_id  \\\n",
       "110                                                 NaN               NaN   \n",
       "226                                                 NaN               NaN   \n",
       "1144                                                NaN               NaN   \n",
       "2245                                                NaN               NaN   \n",
       "3                                                   NaN               NaN   \n",
       "1920                                                NaN               NaN   \n",
       "1468                                                NaN               NaN   \n",
       "2050                                                NaN               NaN   \n",
       "947                                                 NaN               NaN   \n",
       "657   {'created_at': 'Wed Jul 06 15:54:42 +0000 2016...               NaN   \n",
       "1880                                                NaN               NaN   \n",
       "525                                                 NaN               NaN   \n",
       "1473                                                NaN               NaN   \n",
       "598   {'created_at': 'Wed Nov 09 00:37:46 +0000 2016...               NaN   \n",
       "1412                                                NaN               NaN   \n",
       "518                                                 NaN               NaN   \n",
       "806                                                 NaN               NaN   \n",
       "447   {'created_at': 'Mon Jan 02 17:00:46 +0000 2017...               NaN   \n",
       "324   {'created_at': 'Thu Oct 13 23:23:56 +0000 2016...               NaN   \n",
       "2241                                                NaN               NaN   \n",
       "\n",
       "     quoted_status_id_str  quoted_status_permalink  quoted_status  \n",
       "110                   NaN                      NaN            NaN  \n",
       "226                   NaN                      NaN            NaN  \n",
       "1144                  NaN                      NaN            NaN  \n",
       "2245                  NaN                      NaN            NaN  \n",
       "3                     NaN                      NaN            NaN  \n",
       "1920                  NaN                      NaN            NaN  \n",
       "1468                  NaN                      NaN            NaN  \n",
       "2050                  NaN                      NaN            NaN  \n",
       "947                   NaN                      NaN            NaN  \n",
       "657                   NaN                      NaN            NaN  \n",
       "1880                  NaN                      NaN            NaN  \n",
       "525                   NaN                      NaN            NaN  \n",
       "1473                  NaN                      NaN            NaN  \n",
       "598                   NaN                      NaN            NaN  \n",
       "1412                  NaN                      NaN            NaN  \n",
       "518                   NaN                      NaN            NaN  \n",
       "806                   NaN                      NaN            NaN  \n",
       "447                   NaN                      NaN            NaN  \n",
       "324                   NaN                      NaN            NaN  \n",
       "2241                  NaN                      NaN            NaN  \n",
       "\n",
       "[20 rows x 32 columns]"
      ]
     },
     "execution_count": 20,
     "metadata": {},
     "output_type": "execute_result"
    }
   ],
   "source": [
    "df_tweets.sample(20)"
   ]
  },
  {
   "cell_type": "code",
   "execution_count": 21,
   "metadata": {},
   "outputs": [
    {
     "name": "stdout",
     "output_type": "stream",
     "text": [
      "<class 'pandas.core.frame.DataFrame'>\n",
      "RangeIndex: 2327 entries, 0 to 2326\n",
      "Data columns (total 32 columns):\n",
      " #   Column                         Non-Null Count  Dtype              \n",
      "---  ------                         --------------  -----              \n",
      " 0   created_at                     2327 non-null   datetime64[ns, UTC]\n",
      " 1   id                             2327 non-null   int64              \n",
      " 2   id_str                         2327 non-null   int64              \n",
      " 3   full_text                      2327 non-null   object             \n",
      " 4   truncated                      2327 non-null   bool               \n",
      " 5   display_text_range             2327 non-null   object             \n",
      " 6   entities                       2327 non-null   object             \n",
      " 7   extended_entities              2057 non-null   object             \n",
      " 8   source                         2327 non-null   object             \n",
      " 9   in_reply_to_status_id          77 non-null     float64            \n",
      " 10  in_reply_to_status_id_str      77 non-null     float64            \n",
      " 11  in_reply_to_user_id            77 non-null     float64            \n",
      " 12  in_reply_to_user_id_str        77 non-null     float64            \n",
      " 13  in_reply_to_screen_name        77 non-null     object             \n",
      " 14  user                           2327 non-null   object             \n",
      " 15  geo                            0 non-null      float64            \n",
      " 16  coordinates                    0 non-null      float64            \n",
      " 17  place                          1 non-null      object             \n",
      " 18  contributors                   0 non-null      float64            \n",
      " 19  is_quote_status                2327 non-null   bool               \n",
      " 20  retweet_count                  2327 non-null   int64              \n",
      " 21  favorite_count                 2327 non-null   int64              \n",
      " 22  favorited                      2327 non-null   bool               \n",
      " 23  retweeted                      2327 non-null   bool               \n",
      " 24  possibly_sensitive             2195 non-null   float64            \n",
      " 25  possibly_sensitive_appealable  2195 non-null   float64            \n",
      " 26  lang                           2327 non-null   object             \n",
      " 27  retweeted_status               160 non-null    object             \n",
      " 28  quoted_status_id               26 non-null     float64            \n",
      " 29  quoted_status_id_str           26 non-null     float64            \n",
      " 30  quoted_status_permalink        26 non-null     object             \n",
      " 31  quoted_status                  24 non-null     object             \n",
      "dtypes: bool(4), datetime64[ns, UTC](1), float64(11), int64(4), object(12)\n",
      "memory usage: 518.2+ KB\n"
     ]
    }
   ],
   "source": [
    "df_tweets.info()"
   ]
  },
  {
   "cell_type": "code",
   "execution_count": 22,
   "metadata": {},
   "outputs": [
    {
     "data": {
      "text/plain": [
       "list"
      ]
     },
     "execution_count": 22,
     "metadata": {},
     "output_type": "execute_result"
    }
   ],
   "source": [
    "type(df_tweets.display_text_range[0])"
   ]
  },
  {
   "cell_type": "markdown",
   "metadata": {},
   "source": [
    "### Quality issues\n",
    "1. There are non null values in the retweeted_status_id column, indicating a retweet, this is not an original rating and goes against project instructions.\n",
    "\n",
    "2.  The data type of the tweet_id column of the enhanced twiteer archive dataset is integer and not string. \n",
    "\n",
    "3. The timestamp column of the enhanced twitter archive dataset is not a datetime object.\n",
    "\n",
    "4. There are missing values in the expanded_urls column of the enhanced twitter archive dataset that have not been handled.\n",
    "\n",
    "5. The tweet_id column in the image predictios dataset is in integer datatype and not string.\n",
    "\n",
    "6. Inconsistent representation of names in the p1,p2 and p3 columns of the image prediction dataset.\n",
    "\n",
    "7. The id column of the api data is not in string format.\n",
    "\n",
    "8. Relatively few number of unhandled missing values in the extended_entities, possibly_sensitive and possibly_sensitive_appealable column of the api data.\n",
    "\n",
    "9. Overwhelming number of missing values in the in_reply_to_status_id, in_reply_to_status_id_str, in_reply_to_user_id, in_reply_to_user_id_str, in_reply_to_screen_namegeo, coordinates, place, contributors, retweeted_status, quoted_status_id,quoted_status_id_str,quoted_status_permalink and quoted_status columns of the api data.\n",
    "\n",
    "10. The rating_denominator column of the archive dataset has an entry with a value of 0.\n",
    "\n",
    "11. The display_text_range column of the api data contains a list with two variables, the initial and final number of characters in the tweet."
   ]
  },
  {
   "cell_type": "markdown",
   "metadata": {
    "extensions": {
     "jupyter_dashboards": {
      "version": 1,
      "views": {
       "grid_default": {
        "col": 0,
        "height": 7,
        "hidden": false,
        "row": 40,
        "width": 12
       },
       "report_default": {
        "hidden": false
       }
      }
     }
    }
   },
   "source": [
    "### Tidiness issues\n",
    "1. The id_str column is a duplicate of the id column in the api data.\n",
    "\n",
    "2. doggo, floofer, pupper, puppo columns in twitter_archive_enhanced.csv should be combined into a single column as this is one variable that identify the stage of dog.\n",
    "\n",
    "3. Information about one type of observational unit (tweets) is spread across three different files/dataframes. So these three dataframes should be merged as they are part of the same observational unit."
   ]
  },
  {
   "cell_type": "markdown",
   "metadata": {
    "extensions": {
     "jupyter_dashboards": {
      "version": 1,
      "views": {
       "grid_default": {
        "col": 4,
        "height": 4,
        "hidden": false,
        "row": 32,
        "width": 4
       },
       "report_default": {
        "hidden": false
       }
      }
     }
    }
   },
   "source": [
    "## Cleaning Data\n"
   ]
  },
  {
   "cell_type": "code",
   "execution_count": 23,
   "metadata": {},
   "outputs": [],
   "source": [
    "df_archive_clean = df_archive.copy()\n",
    "df_image_clean = df_image.copy()\n",
    "df_tweets_clean = df_tweets.copy()"
   ]
  },
  {
   "cell_type": "markdown",
   "metadata": {},
   "source": [
    "### Quality Issues:"
   ]
  },
  {
   "cell_type": "markdown",
   "metadata": {},
   "source": [
    "### Issue #1:"
   ]
  },
  {
   "cell_type": "markdown",
   "metadata": {},
   "source": [
    "#### Define:\n",
    "\n",
    "> Drop the rows in which the value of the retweeted_status_id column is not null."
   ]
  },
  {
   "cell_type": "markdown",
   "metadata": {},
   "source": [
    "#### Code"
   ]
  },
  {
   "cell_type": "code",
   "execution_count": 24,
   "metadata": {},
   "outputs": [],
   "source": [
    "rows_to_drop = df_archive_clean[~df_archive_clean['retweeted_status_id'].isna()].index"
   ]
  },
  {
   "cell_type": "code",
   "execution_count": 25,
   "metadata": {},
   "outputs": [],
   "source": [
    "df_archive_clean.drop(index=rows_to_drop, inplace=True)"
   ]
  },
  {
   "cell_type": "markdown",
   "metadata": {},
   "source": [
    "#### Test"
   ]
  },
  {
   "cell_type": "code",
   "execution_count": 26,
   "metadata": {},
   "outputs": [
    {
     "data": {
      "text/plain": [
       "0"
      ]
     },
     "execution_count": 26,
     "metadata": {},
     "output_type": "execute_result"
    }
   ],
   "source": [
    "len(df_archive_clean[~df_archive_clean['retweeted_status_id'].isna()])"
   ]
  },
  {
   "cell_type": "markdown",
   "metadata": {},
   "source": [
    "### Issue #2:"
   ]
  },
  {
   "cell_type": "markdown",
   "metadata": {
    "collapsed": true,
    "extensions": {
     "jupyter_dashboards": {
      "version": 1,
      "views": {
       "grid_default": {
        "hidden": true
       },
       "report_default": {
        "hidden": true
       }
      }
     }
    }
   },
   "source": [
    "#### Define\n",
    "\n",
    "> Change the datatype of the tweet_id column in the archive dataset from integer to string."
   ]
  },
  {
   "cell_type": "markdown",
   "metadata": {},
   "source": [
    "#### Code"
   ]
  },
  {
   "cell_type": "code",
   "execution_count": 27,
   "metadata": {},
   "outputs": [],
   "source": [
    "df_archive_clean['tweet_id'] = df_archive_clean['tweet_id'].astype('str')"
   ]
  },
  {
   "cell_type": "markdown",
   "metadata": {},
   "source": [
    "#### Test"
   ]
  },
  {
   "cell_type": "code",
   "execution_count": 28,
   "metadata": {},
   "outputs": [
    {
     "data": {
      "text/plain": [
       "dtype('O')"
      ]
     },
     "execution_count": 28,
     "metadata": {},
     "output_type": "execute_result"
    }
   ],
   "source": [
    "df_archive_clean['tweet_id'].dtype"
   ]
  },
  {
   "cell_type": "markdown",
   "metadata": {},
   "source": [
    "### Issue #3:"
   ]
  },
  {
   "cell_type": "markdown",
   "metadata": {},
   "source": [
    "#### Define\n",
    "\n",
    "> Change the datatype of the timestamp column of the enhanced twitter archive dataset to datetime"
   ]
  },
  {
   "cell_type": "markdown",
   "metadata": {},
   "source": [
    "#### Code"
   ]
  },
  {
   "cell_type": "code",
   "execution_count": 29,
   "metadata": {},
   "outputs": [],
   "source": [
    "df_archive_clean['timestamp'] = pd.to_datetime(df_archive_clean['timestamp'])"
   ]
  },
  {
   "cell_type": "markdown",
   "metadata": {},
   "source": [
    "#### Test"
   ]
  },
  {
   "cell_type": "code",
   "execution_count": 30,
   "metadata": {},
   "outputs": [
    {
     "data": {
      "text/plain": [
       "datetime64[ns, UTC]"
      ]
     },
     "execution_count": 30,
     "metadata": {},
     "output_type": "execute_result"
    }
   ],
   "source": [
    "df_archive_clean['timestamp'].dtype"
   ]
  },
  {
   "cell_type": "markdown",
   "metadata": {},
   "source": [
    "### Issue #4:"
   ]
  },
  {
   "cell_type": "markdown",
   "metadata": {},
   "source": [
    "#### Define\n",
    "\n",
    "> So as not to lose the entire row, fill the missing values of the expanded_urls column of the enhanced twitter archive dataset with the string 'Missing'."
   ]
  },
  {
   "cell_type": "markdown",
   "metadata": {},
   "source": [
    "#### Code"
   ]
  },
  {
   "cell_type": "code",
   "execution_count": 31,
   "metadata": {},
   "outputs": [],
   "source": [
    "df_archive_clean['expanded_urls'].fillna('Missing', inplace=True)"
   ]
  },
  {
   "cell_type": "markdown",
   "metadata": {},
   "source": [
    "#### Test"
   ]
  },
  {
   "cell_type": "code",
   "execution_count": 32,
   "metadata": {},
   "outputs": [
    {
     "data": {
      "text/plain": [
       "0"
      ]
     },
     "execution_count": 32,
     "metadata": {},
     "output_type": "execute_result"
    }
   ],
   "source": [
    "df_archive_clean['expanded_urls'].isna().sum()"
   ]
  },
  {
   "cell_type": "markdown",
   "metadata": {},
   "source": [
    "### Issue #5:"
   ]
  },
  {
   "cell_type": "markdown",
   "metadata": {},
   "source": [
    "#### Define\n",
    "\n",
    "> Change the datatype of the tweet_id column in the image predictios dataset from integer to string."
   ]
  },
  {
   "cell_type": "markdown",
   "metadata": {},
   "source": [
    "#### Code"
   ]
  },
  {
   "cell_type": "code",
   "execution_count": 33,
   "metadata": {},
   "outputs": [],
   "source": [
    "df_image_clean['tweet_id'] = df_image_clean['tweet_id'].astype('str')"
   ]
  },
  {
   "cell_type": "markdown",
   "metadata": {},
   "source": [
    "#### Test"
   ]
  },
  {
   "cell_type": "code",
   "execution_count": 34,
   "metadata": {},
   "outputs": [
    {
     "data": {
      "text/plain": [
       "dtype('O')"
      ]
     },
     "execution_count": 34,
     "metadata": {},
     "output_type": "execute_result"
    }
   ],
   "source": [
    "df_image_clean['tweet_id'].dtype"
   ]
  },
  {
   "cell_type": "markdown",
   "metadata": {},
   "source": [
    "### Issue #6:"
   ]
  },
  {
   "cell_type": "markdown",
   "metadata": {},
   "source": [
    "#### Define\n",
    "\n",
    "> Split the values in the p1,p2,p3 columns of the image prediction dataset by underscore, then capitalize and join back together for a consistent representation."
   ]
  },
  {
   "cell_type": "markdown",
   "metadata": {},
   "source": [
    "#### Code"
   ]
  },
  {
   "cell_type": "code",
   "execution_count": 35,
   "metadata": {},
   "outputs": [],
   "source": [
    "def caps(x):\n",
    "    if '_' in x:\n",
    "        y = x.split('_')\n",
    "        for i in range(len(y)):\n",
    "            y[i] = y[i].capitalize()\n",
    "        x = '_'.join(y)\n",
    "    else:\n",
    "        x = x.capitalize()\n",
    "    return x\n",
    "\n",
    "vector_caps = np.vectorize(caps)"
   ]
  },
  {
   "cell_type": "code",
   "execution_count": 36,
   "metadata": {},
   "outputs": [],
   "source": [
    "df_image_clean['p1'] = vector_caps(df_image_clean['p1'])\n",
    "df_image_clean['p2'] = vector_caps(df_image_clean['p2'])\n",
    "df_image_clean['p3'] = vector_caps(df_image_clean['p3'])"
   ]
  },
  {
   "cell_type": "markdown",
   "metadata": {},
   "source": [
    "#### Test"
   ]
  },
  {
   "cell_type": "code",
   "execution_count": 37,
   "metadata": {},
   "outputs": [
    {
     "data": {
      "text/html": [
       "<div>\n",
       "<style scoped>\n",
       "    .dataframe tbody tr th:only-of-type {\n",
       "        vertical-align: middle;\n",
       "    }\n",
       "\n",
       "    .dataframe tbody tr th {\n",
       "        vertical-align: top;\n",
       "    }\n",
       "\n",
       "    .dataframe thead th {\n",
       "        text-align: right;\n",
       "    }\n",
       "</style>\n",
       "<table border=\"1\" class=\"dataframe\">\n",
       "  <thead>\n",
       "    <tr style=\"text-align: right;\">\n",
       "      <th></th>\n",
       "      <th>p1</th>\n",
       "      <th>p2</th>\n",
       "      <th>p3</th>\n",
       "    </tr>\n",
       "  </thead>\n",
       "  <tbody>\n",
       "    <tr>\n",
       "      <th>730</th>\n",
       "      <td>Rottweiler</td>\n",
       "      <td>Miniature_Pinscher</td>\n",
       "      <td>Gordon_Setter</td>\n",
       "    </tr>\n",
       "    <tr>\n",
       "      <th>1463</th>\n",
       "      <td>Hippopotamus</td>\n",
       "      <td>Doormat</td>\n",
       "      <td>Sea_Lion</td>\n",
       "    </tr>\n",
       "    <tr>\n",
       "      <th>1017</th>\n",
       "      <td>Pembroke</td>\n",
       "      <td>Cardigan</td>\n",
       "      <td>Chihuahua</td>\n",
       "    </tr>\n",
       "    <tr>\n",
       "      <th>1186</th>\n",
       "      <td>Eskimo_Dog</td>\n",
       "      <td>Siberian_Husky</td>\n",
       "      <td>Malamute</td>\n",
       "    </tr>\n",
       "    <tr>\n",
       "      <th>637</th>\n",
       "      <td>Tibetan_Terrier</td>\n",
       "      <td>Miniature_Poodle</td>\n",
       "      <td>Maltese_Dog</td>\n",
       "    </tr>\n",
       "    <tr>\n",
       "      <th>1295</th>\n",
       "      <td>Lakeland_Terrier</td>\n",
       "      <td>Teddy</td>\n",
       "      <td>Golden_Retriever</td>\n",
       "    </tr>\n",
       "    <tr>\n",
       "      <th>1130</th>\n",
       "      <td>Handkerchief</td>\n",
       "      <td>Pomeranian</td>\n",
       "      <td>Shih-tzu</td>\n",
       "    </tr>\n",
       "    <tr>\n",
       "      <th>1783</th>\n",
       "      <td>Boxer</td>\n",
       "      <td>Dalmatian</td>\n",
       "      <td>Conch</td>\n",
       "    </tr>\n",
       "    <tr>\n",
       "      <th>1853</th>\n",
       "      <td>Web_Site</td>\n",
       "      <td>Rule</td>\n",
       "      <td>Envelope</td>\n",
       "    </tr>\n",
       "    <tr>\n",
       "      <th>1699</th>\n",
       "      <td>Dishwasher</td>\n",
       "      <td>Golden_Retriever</td>\n",
       "      <td>Chow</td>\n",
       "    </tr>\n",
       "  </tbody>\n",
       "</table>\n",
       "</div>"
      ],
      "text/plain": [
       "                    p1                  p2                p3\n",
       "730         Rottweiler  Miniature_Pinscher     Gordon_Setter\n",
       "1463      Hippopotamus             Doormat          Sea_Lion\n",
       "1017          Pembroke            Cardigan         Chihuahua\n",
       "1186        Eskimo_Dog      Siberian_Husky          Malamute\n",
       "637    Tibetan_Terrier    Miniature_Poodle       Maltese_Dog\n",
       "1295  Lakeland_Terrier               Teddy  Golden_Retriever\n",
       "1130      Handkerchief          Pomeranian          Shih-tzu\n",
       "1783             Boxer           Dalmatian             Conch\n",
       "1853          Web_Site                Rule          Envelope\n",
       "1699        Dishwasher    Golden_Retriever              Chow"
      ]
     },
     "execution_count": 37,
     "metadata": {},
     "output_type": "execute_result"
    }
   ],
   "source": [
    "df_image_clean[['p1', 'p2', 'p3']].sample(10)"
   ]
  },
  {
   "cell_type": "markdown",
   "metadata": {},
   "source": [
    "### Issue #7:"
   ]
  },
  {
   "cell_type": "markdown",
   "metadata": {},
   "source": [
    "#### Define\n",
    "\n",
    "> Change the datatype of the id column of the twitter api data from integer to string, and rename to tweet_id for consistency with the other two dataframes."
   ]
  },
  {
   "cell_type": "markdown",
   "metadata": {},
   "source": [
    "#### Code"
   ]
  },
  {
   "cell_type": "code",
   "execution_count": 38,
   "metadata": {},
   "outputs": [],
   "source": [
    "df_tweets_clean['id'] = df_tweets_clean['id'].astype('str')"
   ]
  },
  {
   "cell_type": "code",
   "execution_count": 39,
   "metadata": {},
   "outputs": [],
   "source": [
    "df_tweets_clean.rename({'id' : 'tweet_id'}, axis=1, inplace=True)"
   ]
  },
  {
   "cell_type": "markdown",
   "metadata": {},
   "source": [
    "#### Test"
   ]
  },
  {
   "cell_type": "code",
   "execution_count": 40,
   "metadata": {},
   "outputs": [
    {
     "data": {
      "text/plain": [
       "dtype('O')"
      ]
     },
     "execution_count": 40,
     "metadata": {},
     "output_type": "execute_result"
    }
   ],
   "source": [
    "df_tweets_clean['tweet_id'].dtype"
   ]
  },
  {
   "cell_type": "markdown",
   "metadata": {},
   "source": [
    "### Issue #8:"
   ]
  },
  {
   "cell_type": "markdown",
   "metadata": {},
   "source": [
    "#### Define\n",
    "\n",
    "> Fill the missing values in the extended_entities column with the string 'Missing', and the missing values in the possibly_sensitive and possibly_sensitive_appealable columns with 0.0."
   ]
  },
  {
   "cell_type": "markdown",
   "metadata": {},
   "source": [
    "#### Code"
   ]
  },
  {
   "cell_type": "code",
   "execution_count": 41,
   "metadata": {},
   "outputs": [],
   "source": [
    "df_tweets_clean['extended_entities'].fillna('Missing', inplace=True)\n",
    "df_tweets_clean['possibly_sensitive'].fillna(0.0, inplace=True)\n",
    "df_tweets_clean['possibly_sensitive_appealable'].fillna(0.0, inplace=True)"
   ]
  },
  {
   "cell_type": "markdown",
   "metadata": {},
   "source": [
    "#### Test"
   ]
  },
  {
   "cell_type": "code",
   "execution_count": 42,
   "metadata": {},
   "outputs": [
    {
     "data": {
      "text/plain": [
       "extended_entities                0\n",
       "possibly_sensitive               0\n",
       "possibly_sensitive_appealable    0\n",
       "dtype: int64"
      ]
     },
     "execution_count": 42,
     "metadata": {},
     "output_type": "execute_result"
    }
   ],
   "source": [
    "df_tweets_clean[['extended_entities', 'possibly_sensitive', 'possibly_sensitive_appealable']].isna().sum()"
   ]
  },
  {
   "cell_type": "markdown",
   "metadata": {},
   "source": [
    "### Issue #9:"
   ]
  },
  {
   "cell_type": "markdown",
   "metadata": {},
   "source": [
    "#### Define\n",
    "\n",
    "> Drop all columns with up to 2000 missing values."
   ]
  },
  {
   "cell_type": "markdown",
   "metadata": {},
   "source": [
    "#### Code"
   ]
  },
  {
   "cell_type": "code",
   "execution_count": 43,
   "metadata": {},
   "outputs": [
    {
     "data": {
      "text/plain": [
       "['in_reply_to_status_id',\n",
       " 'in_reply_to_status_id_str',\n",
       " 'in_reply_to_user_id',\n",
       " 'in_reply_to_user_id_str',\n",
       " 'in_reply_to_screen_name',\n",
       " 'geo',\n",
       " 'coordinates',\n",
       " 'place',\n",
       " 'contributors',\n",
       " 'retweeted_status',\n",
       " 'quoted_status_id',\n",
       " 'quoted_status_id_str',\n",
       " 'quoted_status_permalink',\n",
       " 'quoted_status']"
      ]
     },
     "execution_count": 43,
     "metadata": {},
     "output_type": "execute_result"
    }
   ],
   "source": [
    "to_drop = []\n",
    "for col in df_tweets_clean.columns:\n",
    "    if df_tweets_clean[col].isna().sum() >= 2000:\n",
    "        to_drop.append(col)\n",
    "to_drop"
   ]
  },
  {
   "cell_type": "code",
   "execution_count": 44,
   "metadata": {},
   "outputs": [],
   "source": [
    "df_tweets_clean.drop(to_drop, axis=1, inplace=True)"
   ]
  },
  {
   "cell_type": "markdown",
   "metadata": {},
   "source": [
    "#### Test"
   ]
  },
  {
   "cell_type": "code",
   "execution_count": 45,
   "metadata": {},
   "outputs": [
    {
     "data": {
      "text/plain": [
       "0"
      ]
     },
     "execution_count": 45,
     "metadata": {},
     "output_type": "execute_result"
    }
   ],
   "source": [
    "df_tweets_clean.columns.isin(to_drop).sum()"
   ]
  },
  {
   "cell_type": "markdown",
   "metadata": {},
   "source": [
    "### Issue #10:"
   ]
  },
  {
   "cell_type": "markdown",
   "metadata": {},
   "source": [
    "#### Define\n",
    "> Drop the row with a rating denominator of 0"
   ]
  },
  {
   "cell_type": "markdown",
   "metadata": {},
   "source": [
    "#### Code"
   ]
  },
  {
   "cell_type": "code",
   "execution_count": 46,
   "metadata": {},
   "outputs": [],
   "source": [
    "index_to_drop = df_archive_clean[df_archive_clean['rating_denominator'] == 0].index"
   ]
  },
  {
   "cell_type": "code",
   "execution_count": 47,
   "metadata": {},
   "outputs": [],
   "source": [
    "df_archive_clean.drop(index=index_to_drop, inplace=True)"
   ]
  },
  {
   "cell_type": "markdown",
   "metadata": {},
   "source": [
    "#### Test"
   ]
  },
  {
   "cell_type": "code",
   "execution_count": 48,
   "metadata": {},
   "outputs": [
    {
     "data": {
      "text/plain": [
       "0"
      ]
     },
     "execution_count": 48,
     "metadata": {},
     "output_type": "execute_result"
    }
   ],
   "source": [
    "(df_archive_clean['rating_denominator'] == 0).sum()"
   ]
  },
  {
   "cell_type": "markdown",
   "metadata": {},
   "source": [
    "### Issue #11:"
   ]
  },
  {
   "cell_type": "markdown",
   "metadata": {},
   "source": [
    "#### Define\n",
    "\n",
    "> Create a new column display_text_length from the display_text_range column, by indexing the second element of the list. Then dropping the display_text_range column."
   ]
  },
  {
   "cell_type": "markdown",
   "metadata": {},
   "source": [
    "#### Code"
   ]
  },
  {
   "cell_type": "code",
   "execution_count": 49,
   "metadata": {},
   "outputs": [],
   "source": [
    "df_tweets_clean['display_text_length'] = df_tweets_clean['display_text_range'].apply(lambda x: x[1])\n",
    "\n",
    "df_tweets_clean.drop('display_text_range', axis=1, inplace=True)"
   ]
  },
  {
   "cell_type": "markdown",
   "metadata": {},
   "source": [
    "#### Test"
   ]
  },
  {
   "cell_type": "code",
   "execution_count": 50,
   "metadata": {},
   "outputs": [
    {
     "data": {
      "text/plain": [
       "dtype('int64')"
      ]
     },
     "execution_count": 50,
     "metadata": {},
     "output_type": "execute_result"
    }
   ],
   "source": [
    "df_tweets_clean['display_text_length'].dtype"
   ]
  },
  {
   "cell_type": "code",
   "execution_count": 51,
   "metadata": {},
   "outputs": [
    {
     "data": {
      "text/plain": [
       "1387    116\n",
       "332      60\n",
       "733      95\n",
       "650      80\n",
       "671     105\n",
       "Name: display_text_length, dtype: int64"
      ]
     },
     "execution_count": 51,
     "metadata": {},
     "output_type": "execute_result"
    }
   ],
   "source": [
    "df_tweets_clean['display_text_length'].sample(5)"
   ]
  },
  {
   "cell_type": "code",
   "execution_count": 52,
   "metadata": {},
   "outputs": [
    {
     "data": {
      "text/plain": [
       "False"
      ]
     },
     "execution_count": 52,
     "metadata": {},
     "output_type": "execute_result"
    }
   ],
   "source": [
    "'display_text_range' in df_tweets_clean.columns"
   ]
  },
  {
   "cell_type": "markdown",
   "metadata": {},
   "source": [
    "### Tidiness Issues:"
   ]
  },
  {
   "cell_type": "markdown",
   "metadata": {},
   "source": [
    "### Issue #1:"
   ]
  },
  {
   "cell_type": "markdown",
   "metadata": {},
   "source": [
    "#### Define\n",
    "\n",
    "Drop the id_str column of the api dataset."
   ]
  },
  {
   "cell_type": "markdown",
   "metadata": {},
   "source": [
    "#### Code"
   ]
  },
  {
   "cell_type": "code",
   "execution_count": 53,
   "metadata": {},
   "outputs": [],
   "source": [
    "df_tweets_clean.drop('id_str', axis=1, inplace=True)"
   ]
  },
  {
   "cell_type": "markdown",
   "metadata": {},
   "source": [
    "#### Test"
   ]
  },
  {
   "cell_type": "code",
   "execution_count": 54,
   "metadata": {},
   "outputs": [
    {
     "data": {
      "text/plain": [
       "False"
      ]
     },
     "execution_count": 54,
     "metadata": {},
     "output_type": "execute_result"
    }
   ],
   "source": [
    "'id_str' in df_tweets_clean.columns"
   ]
  },
  {
   "cell_type": "markdown",
   "metadata": {},
   "source": [
    "### Issue #2:"
   ]
  },
  {
   "cell_type": "markdown",
   "metadata": {},
   "source": [
    "#### Define\n",
    "\n",
    "> Create a single column containing the stage of the dog, also accounting for multiple stages, and drop the rows without a dog stage to allow suitable analysis."
   ]
  },
  {
   "cell_type": "markdown",
   "metadata": {},
   "source": [
    "#### Code"
   ]
  },
  {
   "cell_type": "code",
   "execution_count": 55,
   "metadata": {},
   "outputs": [],
   "source": [
    "def dog_cat(c1, c2, c3, c4):\n",
    "    l = [c1, c2, c3, c4]\n",
    "    if l == ['None' for i in range(4)]:\n",
    "        return 'None'\n",
    "    elif l == ['doggo', 'None', 'None', 'None']:\n",
    "        return 'doggo'\n",
    "    elif l == ['None', 'floofer', 'None', 'None']:\n",
    "        return 'floofer'\n",
    "    elif l == ['None', 'None', 'pupper', 'None']:\n",
    "        return 'pupper'\n",
    "    elif l == ['None', 'None', 'None', 'puppo']:\n",
    "        return 'puppo'\n",
    "    else:\n",
    "        return 'multiple'\n",
    "\n",
    "vector_dog_cat = np.vectorize(dog_cat)"
   ]
  },
  {
   "cell_type": "code",
   "execution_count": 56,
   "metadata": {},
   "outputs": [],
   "source": [
    "df_archive_clean['dog_stage'] = vector_dog_cat(df_archive_clean['doggo'],df_archive_clean['floofer'],df_archive_clean['pupper'],df_archive_clean['puppo'])"
   ]
  },
  {
   "cell_type": "code",
   "execution_count": 57,
   "metadata": {},
   "outputs": [],
   "source": [
    "df_archive_clean.drop(['doggo', 'floofer', 'pupper', 'puppo'], axis=1, inplace=True)"
   ]
  },
  {
   "cell_type": "code",
   "execution_count": 58,
   "metadata": {},
   "outputs": [
    {
     "data": {
      "text/plain": [
       "None        1830\n",
       "pupper       224\n",
       "doggo         75\n",
       "puppo         24\n",
       "multiple      12\n",
       "floofer        9\n",
       "Name: dog_stage, dtype: int64"
      ]
     },
     "execution_count": 58,
     "metadata": {},
     "output_type": "execute_result"
    }
   ],
   "source": [
    "df_archive_clean['dog_stage'].value_counts()"
   ]
  },
  {
   "cell_type": "code",
   "execution_count": 59,
   "metadata": {},
   "outputs": [],
   "source": [
    "stage_to_drop = df_archive_clean[df_archive_clean['dog_stage'] == 'None'].index"
   ]
  },
  {
   "cell_type": "code",
   "execution_count": 60,
   "metadata": {},
   "outputs": [],
   "source": [
    "df_archive_clean.drop(index=stage_to_drop, inplace=True)"
   ]
  },
  {
   "cell_type": "markdown",
   "metadata": {},
   "source": [
    "#### Test"
   ]
  },
  {
   "cell_type": "code",
   "execution_count": 61,
   "metadata": {},
   "outputs": [
    {
     "data": {
      "text/plain": [
       "pupper      224\n",
       "doggo        75\n",
       "puppo        24\n",
       "multiple     12\n",
       "floofer       9\n",
       "Name: dog_stage, dtype: int64"
      ]
     },
     "execution_count": 61,
     "metadata": {},
     "output_type": "execute_result"
    }
   ],
   "source": [
    "df_archive_clean['dog_stage'].value_counts()"
   ]
  },
  {
   "cell_type": "code",
   "execution_count": 62,
   "metadata": {},
   "outputs": [
    {
     "data": {
      "text/plain": [
       "0    False\n",
       "1    False\n",
       "2    False\n",
       "3    False\n",
       "dtype: bool"
      ]
     },
     "execution_count": 62,
     "metadata": {},
     "output_type": "execute_result"
    }
   ],
   "source": [
    "pd.Series(['doggo', 'floofer', 'pupper', 'puppo']).isin(df_archive_clean.columns)"
   ]
  },
  {
   "cell_type": "markdown",
   "metadata": {},
   "source": [
    "### Issue #3:"
   ]
  },
  {
   "cell_type": "markdown",
   "metadata": {},
   "source": [
    "#### Define\n",
    "\n",
    "> Merge the df_archive_clean, df_image_clean and df_tweets_clean into one master dataset."
   ]
  },
  {
   "cell_type": "markdown",
   "metadata": {},
   "source": [
    "#### Code"
   ]
  },
  {
   "cell_type": "code",
   "execution_count": 63,
   "metadata": {},
   "outputs": [],
   "source": [
    "df_master = df_archive_clean.merge(df_tweets_clean, on='tweet_id').merge(df_image_clean, on='tweet_id')"
   ]
  },
  {
   "cell_type": "markdown",
   "metadata": {},
   "source": [
    "#### Test"
   ]
  },
  {
   "cell_type": "code",
   "execution_count": 64,
   "metadata": {},
   "outputs": [
    {
     "data": {
      "text/plain": [
       "39"
      ]
     },
     "execution_count": 64,
     "metadata": {},
     "output_type": "execute_result"
    }
   ],
   "source": [
    "pd.Series(df_master.columns).isin(list(df_archive_clean.columns) + list(df_image_clean.columns) + list(df_tweets_clean.columns)).sum()"
   ]
  },
  {
   "cell_type": "markdown",
   "metadata": {},
   "source": [
    "## Storing Data"
   ]
  },
  {
   "cell_type": "code",
   "execution_count": 65,
   "metadata": {},
   "outputs": [],
   "source": [
    "if os.path.isfile('twitter_archive_master.csv') is False:\n",
    "    df_master.to_csv('twitter_archive_master.csv', index=False)"
   ]
  },
  {
   "cell_type": "markdown",
   "metadata": {},
   "source": [
    "## Analyzing and Visualizing Data"
   ]
  },
  {
   "cell_type": "markdown",
   "metadata": {},
   "source": [
    "### Research Question 1:\n",
    "\n",
    "> How is the rating score distributed across the observed dog stages?"
   ]
  },
  {
   "cell_type": "markdown",
   "metadata": {},
   "source": [
    "We create a dataframe containing the rating value for each category"
   ]
  },
  {
   "cell_type": "code",
   "execution_count": 66,
   "metadata": {},
   "outputs": [],
   "source": [
    "rating = df_master['rating_numerator']/df_master['rating_denominator']"
   ]
  },
  {
   "cell_type": "code",
   "execution_count": 67,
   "metadata": {},
   "outputs": [],
   "source": [
    "rated_categories = pd.concat([df_master['dog_stage'], rating], axis=1)"
   ]
  },
  {
   "cell_type": "code",
   "execution_count": 68,
   "metadata": {},
   "outputs": [],
   "source": [
    "rated_categories.rename({0: 'rating'}, axis=1, inplace=True)"
   ]
  },
  {
   "cell_type": "code",
   "execution_count": 69,
   "metadata": {},
   "outputs": [
    {
     "data": {
      "text/html": [
       "<div>\n",
       "<style scoped>\n",
       "    .dataframe tbody tr th:only-of-type {\n",
       "        vertical-align: middle;\n",
       "    }\n",
       "\n",
       "    .dataframe tbody tr th {\n",
       "        vertical-align: top;\n",
       "    }\n",
       "\n",
       "    .dataframe thead th {\n",
       "        text-align: right;\n",
       "    }\n",
       "</style>\n",
       "<table border=\"1\" class=\"dataframe\">\n",
       "  <thead>\n",
       "    <tr style=\"text-align: right;\">\n",
       "      <th></th>\n",
       "      <th>dog_stage</th>\n",
       "      <th>rating</th>\n",
       "    </tr>\n",
       "  </thead>\n",
       "  <tbody>\n",
       "    <tr>\n",
       "      <th>140</th>\n",
       "      <td>pupper</td>\n",
       "      <td>1.1</td>\n",
       "    </tr>\n",
       "    <tr>\n",
       "      <th>235</th>\n",
       "      <td>pupper</td>\n",
       "      <td>1.2</td>\n",
       "    </tr>\n",
       "    <tr>\n",
       "      <th>80</th>\n",
       "      <td>doggo</td>\n",
       "      <td>1.2</td>\n",
       "    </tr>\n",
       "    <tr>\n",
       "      <th>162</th>\n",
       "      <td>pupper</td>\n",
       "      <td>1.1</td>\n",
       "    </tr>\n",
       "    <tr>\n",
       "      <th>3</th>\n",
       "      <td>pupper</td>\n",
       "      <td>1.2</td>\n",
       "    </tr>\n",
       "  </tbody>\n",
       "</table>\n",
       "</div>"
      ],
      "text/plain": [
       "    dog_stage  rating\n",
       "140    pupper     1.1\n",
       "235    pupper     1.2\n",
       "80      doggo     1.2\n",
       "162    pupper     1.1\n",
       "3      pupper     1.2"
      ]
     },
     "execution_count": 69,
     "metadata": {},
     "output_type": "execute_result"
    }
   ],
   "source": [
    "rated_categories.sample(5)"
   ]
  },
  {
   "cell_type": "code",
   "execution_count": 70,
   "metadata": {},
   "outputs": [
    {
     "data": {
      "text/plain": [
       "pupper      0.665574\n",
       "doggo       0.203279\n",
       "puppo       0.072131\n",
       "multiple    0.036066\n",
       "floofer     0.022951\n",
       "Name: dog_stage, dtype: float64"
      ]
     },
     "execution_count": 70,
     "metadata": {},
     "output_type": "execute_result"
    }
   ],
   "source": [
    "rated_categories['dog_stage'].value_counts(normalize=True)"
   ]
  },
  {
   "cell_type": "markdown",
   "metadata": {},
   "source": [
    "We observed that most of the dogs rated are in the pupper category."
   ]
  },
  {
   "cell_type": "code",
   "execution_count": 71,
   "metadata": {},
   "outputs": [
    {
     "data": {
      "text/html": [
       "<div>\n",
       "<style scoped>\n",
       "    .dataframe tbody tr th:only-of-type {\n",
       "        vertical-align: middle;\n",
       "    }\n",
       "\n",
       "    .dataframe tbody tr th {\n",
       "        vertical-align: top;\n",
       "    }\n",
       "\n",
       "    .dataframe thead th {\n",
       "        text-align: right;\n",
       "    }\n",
       "</style>\n",
       "<table border=\"1\" class=\"dataframe\">\n",
       "  <thead>\n",
       "    <tr style=\"text-align: right;\">\n",
       "      <th></th>\n",
       "      <th>rating</th>\n",
       "    </tr>\n",
       "    <tr>\n",
       "      <th>dog_stage</th>\n",
       "      <th></th>\n",
       "    </tr>\n",
       "  </thead>\n",
       "  <tbody>\n",
       "    <tr>\n",
       "      <th>doggo</th>\n",
       "      <td>1.187097</td>\n",
       "    </tr>\n",
       "    <tr>\n",
       "      <th>floofer</th>\n",
       "      <td>1.200000</td>\n",
       "    </tr>\n",
       "    <tr>\n",
       "      <th>multiple</th>\n",
       "      <td>1.118182</td>\n",
       "    </tr>\n",
       "    <tr>\n",
       "      <th>pupper</th>\n",
       "      <td>1.071429</td>\n",
       "    </tr>\n",
       "    <tr>\n",
       "      <th>puppo</th>\n",
       "      <td>1.200000</td>\n",
       "    </tr>\n",
       "  </tbody>\n",
       "</table>\n",
       "</div>"
      ],
      "text/plain": [
       "             rating\n",
       "dog_stage          \n",
       "doggo      1.187097\n",
       "floofer    1.200000\n",
       "multiple   1.118182\n",
       "pupper     1.071429\n",
       "puppo      1.200000"
      ]
     },
     "execution_count": 71,
     "metadata": {},
     "output_type": "execute_result"
    }
   ],
   "source": [
    "rated_categories.groupby('dog_stage').mean()"
   ]
  },
  {
   "cell_type": "code",
   "execution_count": 72,
   "metadata": {},
   "outputs": [
    {
     "data": {
      "image/png": "[encoded data removed]",
      "text/plain": [
       "<Figure size 432x288 with 1 Axes>"
      ]
     },
     "metadata": {
      "needs_background": "light"
     },
     "output_type": "display_data"
    }
   ],
   "source": [
    "sns.barplot(data=rated_categories, x='dog_stage', y='rating')\n",
    "_ = plt.title('Mean Rating across Dog Stages')\n",
    "\n",
    "if os.path.isfile('Visualizations/Mean_Rating_across_Dog_Stages.png') is False:\n",
    "    _ = plt.savefig('Visualizations/Mean_Rating_across_Dog_Stages.png', bbox_inches='tight', facecolor='white')"
   ]
  },
  {
   "cell_type": "markdown",
   "metadata": {},
   "source": [
    "The mean rating across the stages are close to each other. Keeping the different sample sizes in mind, our sample means may not be a good measure of difference in distributions."
   ]
  },
  {
   "cell_type": "markdown",
   "metadata": {},
   "source": [
    "We can carry out a hypothesis test to check whether the ratings across the stages are from the same distribution.\n",
    "\n",
    "Null Hypothesis: The ratings have the same distribution across the 5 stages.\n",
    "\n",
    "Alternative Hypothesis: The ratings are distributed differently across the 5 stages.\n",
    "\n",
    "The Kruskal–Wallis Test is used as there are few number of samples in the poppo, multiple and floofer stages. The significance level is 0.05."
   ]
  },
  {
   "cell_type": "code",
   "execution_count": 73,
   "metadata": {},
   "outputs": [
    {
     "data": {
      "text/html": [
       "<div>\n",
       "<style scoped>\n",
       "    .dataframe tbody tr th:only-of-type {\n",
       "        vertical-align: middle;\n",
       "    }\n",
       "\n",
       "    .dataframe tbody tr th {\n",
       "        vertical-align: top;\n",
       "    }\n",
       "\n",
       "    .dataframe thead th {\n",
       "        text-align: right;\n",
       "    }\n",
       "</style>\n",
       "<table border=\"1\" class=\"dataframe\">\n",
       "  <thead>\n",
       "    <tr style=\"text-align: right;\">\n",
       "      <th></th>\n",
       "      <th>Source</th>\n",
       "      <th>ddof1</th>\n",
       "      <th>H</th>\n",
       "      <th>p-unc</th>\n",
       "    </tr>\n",
       "  </thead>\n",
       "  <tbody>\n",
       "    <tr>\n",
       "      <th>Kruskal</th>\n",
       "      <td>dog_stage</td>\n",
       "      <td>4</td>\n",
       "      <td>38.433506</td>\n",
       "      <td>9.119723e-08</td>\n",
       "    </tr>\n",
       "  </tbody>\n",
       "</table>\n",
       "</div>"
      ],
      "text/plain": [
       "            Source  ddof1          H         p-unc\n",
       "Kruskal  dog_stage      4  38.433506  9.119723e-08"
      ]
     },
     "execution_count": 73,
     "metadata": {},
     "output_type": "execute_result"
    }
   ],
   "source": [
    "pingouin.kruskal(data=rated_categories, dv='rating', between='dog_stage')"
   ]
  },
  {
   "cell_type": "markdown",
   "metadata": {},
   "source": [
    "Given that the p-unc value is less than our significance level, the Kruskal–Wallis Test suggests that given the data at hand we reject the null hypothesis, and assume the ratings across the 5 dog stages are distributed differently."
   ]
  },
  {
   "cell_type": "markdown",
   "metadata": {},
   "source": [
    "### Research Question 2:\n",
    "\n",
    "> How have the mean ratings varied across the years?"
   ]
  },
  {
   "cell_type": "code",
   "execution_count": 74,
   "metadata": {},
   "outputs": [
    {
     "data": {
      "text/plain": [
       "amax   2017-07-26 15:59:51+00:00\n",
       "amin   2015-12-02 21:06:56+00:00\n",
       "Name: timestamp, dtype: datetime64[ns, UTC]"
      ]
     },
     "execution_count": 74,
     "metadata": {},
     "output_type": "execute_result"
    }
   ],
   "source": [
    "df_master.timestamp.agg([np.max,np.min])"
   ]
  },
  {
   "cell_type": "code",
   "execution_count": 75,
   "metadata": {},
   "outputs": [],
   "source": [
    "df_time_series = pd.concat([df_master[['timestamp']], rating], axis=1)"
   ]
  },
  {
   "cell_type": "code",
   "execution_count": 76,
   "metadata": {},
   "outputs": [],
   "source": [
    "df_time_series.rename({0:'rating'}, axis=1, inplace=True)"
   ]
  },
  {
   "cell_type": "code",
   "execution_count": 77,
   "metadata": {},
   "outputs": [
    {
     "data": {
      "text/html": [
       "<div>\n",
       "<style scoped>\n",
       "    .dataframe tbody tr th:only-of-type {\n",
       "        vertical-align: middle;\n",
       "    }\n",
       "\n",
       "    .dataframe tbody tr th {\n",
       "        vertical-align: top;\n",
       "    }\n",
       "\n",
       "    .dataframe thead th {\n",
       "        text-align: right;\n",
       "    }\n",
       "</style>\n",
       "<table border=\"1\" class=\"dataframe\">\n",
       "  <thead>\n",
       "    <tr style=\"text-align: right;\">\n",
       "      <th></th>\n",
       "      <th>timestamp</th>\n",
       "      <th>rating</th>\n",
       "    </tr>\n",
       "  </thead>\n",
       "  <tbody>\n",
       "    <tr>\n",
       "      <th>0</th>\n",
       "      <td>2017-07-26 15:59:51+00:00</td>\n",
       "      <td>1.4</td>\n",
       "    </tr>\n",
       "    <tr>\n",
       "      <th>1</th>\n",
       "      <td>2017-07-25 01:55:32+00:00</td>\n",
       "      <td>1.3</td>\n",
       "    </tr>\n",
       "    <tr>\n",
       "      <th>2</th>\n",
       "      <td>2017-07-24 17:02:04+00:00</td>\n",
       "      <td>1.3</td>\n",
       "    </tr>\n",
       "    <tr>\n",
       "      <th>3</th>\n",
       "      <td>2017-07-15 23:25:31+00:00</td>\n",
       "      <td>1.2</td>\n",
       "    </tr>\n",
       "    <tr>\n",
       "      <th>4</th>\n",
       "      <td>2017-07-09 21:29:42+00:00</td>\n",
       "      <td>1.2</td>\n",
       "    </tr>\n",
       "  </tbody>\n",
       "</table>\n",
       "</div>"
      ],
      "text/plain": [
       "                  timestamp  rating\n",
       "0 2017-07-26 15:59:51+00:00     1.4\n",
       "1 2017-07-25 01:55:32+00:00     1.3\n",
       "2 2017-07-24 17:02:04+00:00     1.3\n",
       "3 2017-07-15 23:25:31+00:00     1.2\n",
       "4 2017-07-09 21:29:42+00:00     1.2"
      ]
     },
     "execution_count": 77,
     "metadata": {},
     "output_type": "execute_result"
    }
   ],
   "source": [
    "df_time_series.head()"
   ]
  },
  {
   "cell_type": "code",
   "execution_count": 78,
   "metadata": {},
   "outputs": [],
   "source": [
    "df_time_series.set_index('timestamp', inplace=True)"
   ]
  },
  {
   "cell_type": "markdown",
   "metadata": {},
   "source": [
    "We will visualize the mean ratings over 3 month periods to get a sense of when dogs received the most generous ratings."
   ]
  },
  {
   "cell_type": "code",
   "execution_count": 79,
   "metadata": {},
   "outputs": [],
   "source": [
    "quarterly_means = df_time_series.resample('Q').mean()"
   ]
  },
  {
   "cell_type": "code",
   "execution_count": 80,
   "metadata": {},
   "outputs": [
    {
     "data": {
      "image/png": "[encoded data removed]",
      "text/plain": [
       "<Figure size 432x288 with 1 Axes>"
      ]
     },
     "metadata": {
      "needs_background": "light"
     },
     "output_type": "display_data"
    }
   ],
   "source": [
    "sns.lineplot(data=quarterly_means, x='timestamp', y='rating')\n",
    "_ = plt.xticks(rotation=45)\n",
    "_ = plt.title('Plot of Mean Quarterly Ratings')\n",
    "\n",
    "if os.path.isfile('Visualizations/Mean_Quarterly_Ratings.png') is False:\n",
    "    _ = plt.savefig('Visualizations/Mean_Quarterly_Ratings.png', bbox_inches='tight', facecolor='white')"
   ]
  },
  {
   "cell_type": "markdown",
   "metadata": {},
   "source": [
    "From the visualization, it is evident that the 2017-07 to 2017-10 period saw dogs receive the highest ratings on average. There is also an increasing trend in the ratings received from 2016-01 to 2017-10."
   ]
  },
  {
   "cell_type": "markdown",
   "metadata": {},
   "source": [
    "### Research Question 3:\n",
    "\n",
    "> For high and low confidence levels, which of the neural networks 3 predictions have a higher proportion of success?"
   ]
  },
  {
   "cell_type": "markdown",
   "metadata": {},
   "source": [
    "After creating three dataframes to store the three predictions, we designate a confidence level of 0.5 or greater as high confidence and all others as low confidence predictions. "
   ]
  },
  {
   "cell_type": "code",
   "execution_count": 81,
   "metadata": {},
   "outputs": [],
   "source": [
    "df_p1 = df_master[['p1_conf', 'p1_dog']]\n",
    "df_p2 = df_master[['p2_conf', 'p2_dog']]\n",
    "df_p3 = df_master[['p3_conf', 'p3_dog']]"
   ]
  },
  {
   "cell_type": "code",
   "execution_count": 82,
   "metadata": {
    "scrolled": true
   },
   "outputs": [
    {
     "name": "stderr",
     "output_type": "stream",
     "text": [
      "C:\\Users\\Nasir Ibrahim\\anaconda3\\lib\\site-packages\\pandas\\core\\indexing.py:1773: SettingWithCopyWarning: \n",
      "A value is trying to be set on a copy of a slice from a DataFrame.\n",
      "Try using .loc[row_indexer,col_indexer] = value instead\n",
      "\n",
      "See the caveats in the documentation: https://pandas.pydata.org/pandas-docs/stable/user_guide/indexing.html#returning-a-view-versus-a-copy\n",
      "  self._setitem_single_column(ilocs[0], value, pi)\n"
     ]
    }
   ],
   "source": [
    "df_p1.loc[:,'p1_conf'] = df_p1['p1_conf'].apply(lambda x: 'High' if x >= 0.5 else 'Low')\n",
    "df_p2.loc[:,'p2_conf'] = df_p2['p2_conf'].apply(lambda x: 'High' if x >= 0.5 else 'Low')\n",
    "df_p3.loc[:,'p3_conf'] = df_p3['p3_conf'].apply(lambda x: 'High' if x >= 0.5 else 'Low')"
   ]
  },
  {
   "cell_type": "code",
   "execution_count": 83,
   "metadata": {},
   "outputs": [
    {
     "data": {
      "text/plain": [
       "High    193\n",
       "Low     112\n",
       "Name: p1_conf, dtype: int64"
      ]
     },
     "execution_count": 83,
     "metadata": {},
     "output_type": "execute_result"
    }
   ],
   "source": [
    "df_p1['p1_conf'].value_counts()"
   ]
  },
  {
   "cell_type": "code",
   "execution_count": 84,
   "metadata": {},
   "outputs": [
    {
     "data": {
      "text/plain": [
       "High    0.632787\n",
       "Low     0.367213\n",
       "Name: p1_conf, dtype: float64"
      ]
     },
     "execution_count": 84,
     "metadata": {},
     "output_type": "execute_result"
    }
   ],
   "source": [
    "df_p1['p1_conf'].value_counts(normalize=True)"
   ]
  },
  {
   "cell_type": "code",
   "execution_count": 85,
   "metadata": {},
   "outputs": [
    {
     "data": {
      "text/plain": [
       "Low    305\n",
       "Name: p2_conf, dtype: int64"
      ]
     },
     "execution_count": 85,
     "metadata": {},
     "output_type": "execute_result"
    }
   ],
   "source": [
    "df_p2['p2_conf'].value_counts()"
   ]
  },
  {
   "cell_type": "code",
   "execution_count": 86,
   "metadata": {},
   "outputs": [
    {
     "data": {
      "text/plain": [
       "Low    305\n",
       "Name: p3_conf, dtype: int64"
      ]
     },
     "execution_count": 86,
     "metadata": {},
     "output_type": "execute_result"
    }
   ],
   "source": [
    "df_p3['p3_conf'].value_counts()"
   ]
  },
  {
   "cell_type": "code",
   "execution_count": 87,
   "metadata": {},
   "outputs": [
    {
     "data": {
      "text/html": [
       "<div>\n",
       "<style scoped>\n",
       "    .dataframe tbody tr th:only-of-type {\n",
       "        vertical-align: middle;\n",
       "    }\n",
       "\n",
       "    .dataframe tbody tr th {\n",
       "        vertical-align: top;\n",
       "    }\n",
       "\n",
       "    .dataframe thead th {\n",
       "        text-align: right;\n",
       "    }\n",
       "</style>\n",
       "<table border=\"1\" class=\"dataframe\">\n",
       "  <thead>\n",
       "    <tr style=\"text-align: right;\">\n",
       "      <th></th>\n",
       "      <th>p1_dog</th>\n",
       "    </tr>\n",
       "    <tr>\n",
       "      <th>p1_conf</th>\n",
       "      <th></th>\n",
       "    </tr>\n",
       "  </thead>\n",
       "  <tbody>\n",
       "    <tr>\n",
       "      <th>High</th>\n",
       "      <td>0.818653</td>\n",
       "    </tr>\n",
       "    <tr>\n",
       "      <th>Low</th>\n",
       "      <td>0.616071</td>\n",
       "    </tr>\n",
       "  </tbody>\n",
       "</table>\n",
       "</div>"
      ],
      "text/plain": [
       "           p1_dog\n",
       "p1_conf          \n",
       "High     0.818653\n",
       "Low      0.616071"
      ]
     },
     "execution_count": 87,
     "metadata": {},
     "output_type": "execute_result"
    }
   ],
   "source": [
    "df_p1.groupby('p1_conf').mean()"
   ]
  },
  {
   "cell_type": "code",
   "execution_count": 88,
   "metadata": {},
   "outputs": [
    {
     "data": {
      "text/html": [
       "<div>\n",
       "<style scoped>\n",
       "    .dataframe tbody tr th:only-of-type {\n",
       "        vertical-align: middle;\n",
       "    }\n",
       "\n",
       "    .dataframe tbody tr th {\n",
       "        vertical-align: top;\n",
       "    }\n",
       "\n",
       "    .dataframe thead th {\n",
       "        text-align: right;\n",
       "    }\n",
       "</style>\n",
       "<table border=\"1\" class=\"dataframe\">\n",
       "  <thead>\n",
       "    <tr style=\"text-align: right;\">\n",
       "      <th></th>\n",
       "      <th>p2_dog</th>\n",
       "    </tr>\n",
       "    <tr>\n",
       "      <th>p2_conf</th>\n",
       "      <th></th>\n",
       "    </tr>\n",
       "  </thead>\n",
       "  <tbody>\n",
       "    <tr>\n",
       "      <th>Low</th>\n",
       "      <td>0.763934</td>\n",
       "    </tr>\n",
       "  </tbody>\n",
       "</table>\n",
       "</div>"
      ],
      "text/plain": [
       "           p2_dog\n",
       "p2_conf          \n",
       "Low      0.763934"
      ]
     },
     "execution_count": 88,
     "metadata": {},
     "output_type": "execute_result"
    }
   ],
   "source": [
    "df_p2.groupby('p2_conf').mean()"
   ]
  },
  {
   "cell_type": "code",
   "execution_count": 89,
   "metadata": {},
   "outputs": [
    {
     "data": {
      "text/html": [
       "<div>\n",
       "<style scoped>\n",
       "    .dataframe tbody tr th:only-of-type {\n",
       "        vertical-align: middle;\n",
       "    }\n",
       "\n",
       "    .dataframe tbody tr th {\n",
       "        vertical-align: top;\n",
       "    }\n",
       "\n",
       "    .dataframe thead th {\n",
       "        text-align: right;\n",
       "    }\n",
       "</style>\n",
       "<table border=\"1\" class=\"dataframe\">\n",
       "  <thead>\n",
       "    <tr style=\"text-align: right;\">\n",
       "      <th></th>\n",
       "      <th>p3_dog</th>\n",
       "    </tr>\n",
       "    <tr>\n",
       "      <th>p3_conf</th>\n",
       "      <th></th>\n",
       "    </tr>\n",
       "  </thead>\n",
       "  <tbody>\n",
       "    <tr>\n",
       "      <th>Low</th>\n",
       "      <td>0.727869</td>\n",
       "    </tr>\n",
       "  </tbody>\n",
       "</table>\n",
       "</div>"
      ],
      "text/plain": [
       "           p3_dog\n",
       "p3_conf          \n",
       "Low      0.727869"
      ]
     },
     "execution_count": 89,
     "metadata": {},
     "output_type": "execute_result"
    }
   ],
   "source": [
    "df_p3.groupby('p3_conf').mean()"
   ]
  },
  {
   "cell_type": "code",
   "execution_count": 90,
   "metadata": {},
   "outputs": [
    {
     "data": {
      "text/plain": [
       "0.7442622950819672"
      ]
     },
     "execution_count": 90,
     "metadata": {},
     "output_type": "execute_result"
    }
   ],
   "source": [
    "df_p1['p1_dog'].mean()"
   ]
  },
  {
   "cell_type": "code",
   "execution_count": 91,
   "metadata": {},
   "outputs": [
    {
     "data": {
      "text/plain": [
       "0.7639344262295082"
      ]
     },
     "execution_count": 91,
     "metadata": {},
     "output_type": "execute_result"
    }
   ],
   "source": [
    "df_p2['p2_dog'].mean()"
   ]
  },
  {
   "cell_type": "code",
   "execution_count": 92,
   "metadata": {},
   "outputs": [
    {
     "data": {
      "text/plain": [
       "0.7278688524590164"
      ]
     },
     "execution_count": 92,
     "metadata": {},
     "output_type": "execute_result"
    }
   ],
   "source": [
    "df_p3['p3_dog'].mean()"
   ]
  },
  {
   "cell_type": "markdown",
   "metadata": {},
   "source": [
    "We see that the first prediction has high confidence 63.27% of the time while the other two are all low confidence. The second predicts most accurately, with a success rate of 76.39%."
   ]
  },
  {
   "cell_type": "markdown",
   "metadata": {},
   "source": [
    "### Research Question 4:\n",
    "\n",
    "> What is the relationship between display text length and retweet and favorite counts?"
   ]
  },
  {
   "cell_type": "code",
   "execution_count": 93,
   "metadata": {},
   "outputs": [],
   "source": [
    "df_popularity = pd.DataFrame()\n",
    "df_popularity['display_text_length'] = df_master['display_text_length']\n",
    "df_popularity['retweets_plus_favorites'] = df_master['retweet_count'] + df_master['favorite_count']"
   ]
  },
  {
   "cell_type": "code",
   "execution_count": 94,
   "metadata": {},
   "outputs": [
    {
     "data": {
      "text/html": [
       "<div>\n",
       "<style scoped>\n",
       "    .dataframe tbody tr th:only-of-type {\n",
       "        vertical-align: middle;\n",
       "    }\n",
       "\n",
       "    .dataframe tbody tr th {\n",
       "        vertical-align: top;\n",
       "    }\n",
       "\n",
       "    .dataframe thead th {\n",
       "        text-align: right;\n",
       "    }\n",
       "</style>\n",
       "<table border=\"1\" class=\"dataframe\">\n",
       "  <thead>\n",
       "    <tr style=\"text-align: right;\">\n",
       "      <th></th>\n",
       "      <th>display_text_length</th>\n",
       "      <th>retweets_plus_favorites</th>\n",
       "    </tr>\n",
       "  </thead>\n",
       "  <tbody>\n",
       "    <tr>\n",
       "      <th>0</th>\n",
       "      <td>133</td>\n",
       "      <td>34082</td>\n",
       "    </tr>\n",
       "    <tr>\n",
       "      <th>1</th>\n",
       "      <td>106</td>\n",
       "      <td>50439</td>\n",
       "    </tr>\n",
       "    <tr>\n",
       "      <th>2</th>\n",
       "      <td>118</td>\n",
       "      <td>15241</td>\n",
       "    </tr>\n",
       "    <tr>\n",
       "      <th>3</th>\n",
       "      <td>131</td>\n",
       "      <td>21192</td>\n",
       "    </tr>\n",
       "    <tr>\n",
       "      <th>4</th>\n",
       "      <td>140</td>\n",
       "      <td>20461</td>\n",
       "    </tr>\n",
       "  </tbody>\n",
       "</table>\n",
       "</div>"
      ],
      "text/plain": [
       "   display_text_length  retweets_plus_favorites\n",
       "0                  133                    34082\n",
       "1                  106                    50439\n",
       "2                  118                    15241\n",
       "3                  131                    21192\n",
       "4                  140                    20461"
      ]
     },
     "execution_count": 94,
     "metadata": {},
     "output_type": "execute_result"
    }
   ],
   "source": [
    "df_popularity.head()"
   ]
  },
  {
   "cell_type": "code",
   "execution_count": 95,
   "metadata": {},
   "outputs": [
    {
     "data": {
      "text/html": [
       "<div>\n",
       "<style scoped>\n",
       "    .dataframe tbody tr th:only-of-type {\n",
       "        vertical-align: middle;\n",
       "    }\n",
       "\n",
       "    .dataframe tbody tr th {\n",
       "        vertical-align: top;\n",
       "    }\n",
       "\n",
       "    .dataframe thead th {\n",
       "        text-align: right;\n",
       "    }\n",
       "</style>\n",
       "<table border=\"1\" class=\"dataframe\">\n",
       "  <thead>\n",
       "    <tr style=\"text-align: right;\">\n",
       "      <th></th>\n",
       "      <th>display_text_length</th>\n",
       "      <th>retweets_plus_favorites</th>\n",
       "    </tr>\n",
       "  </thead>\n",
       "  <tbody>\n",
       "    <tr>\n",
       "      <th>count</th>\n",
       "      <td>305.000000</td>\n",
       "      <td>305.000000</td>\n",
       "    </tr>\n",
       "    <tr>\n",
       "      <th>mean</th>\n",
       "      <td>109.327869</td>\n",
       "      <td>13053.849180</td>\n",
       "    </tr>\n",
       "    <tr>\n",
       "      <th>std</th>\n",
       "      <td>26.027517</td>\n",
       "      <td>22829.601537</td>\n",
       "    </tr>\n",
       "    <tr>\n",
       "      <th>min</th>\n",
       "      <td>32.000000</td>\n",
       "      <td>660.000000</td>\n",
       "    </tr>\n",
       "    <tr>\n",
       "      <th>25%</th>\n",
       "      <td>92.000000</td>\n",
       "      <td>3012.000000</td>\n",
       "    </tr>\n",
       "    <tr>\n",
       "      <th>50%</th>\n",
       "      <td>114.000000</td>\n",
       "      <td>6115.000000</td>\n",
       "    </tr>\n",
       "    <tr>\n",
       "      <th>75%</th>\n",
       "      <td>134.000000</td>\n",
       "      <td>14059.000000</td>\n",
       "    </tr>\n",
       "    <tr>\n",
       "      <th>max</th>\n",
       "      <td>144.000000</td>\n",
       "      <td>215803.000000</td>\n",
       "    </tr>\n",
       "  </tbody>\n",
       "</table>\n",
       "</div>"
      ],
      "text/plain": [
       "       display_text_length  retweets_plus_favorites\n",
       "count           305.000000               305.000000\n",
       "mean            109.327869             13053.849180\n",
       "std              26.027517             22829.601537\n",
       "min              32.000000               660.000000\n",
       "25%              92.000000              3012.000000\n",
       "50%             114.000000              6115.000000\n",
       "75%             134.000000             14059.000000\n",
       "max             144.000000            215803.000000"
      ]
     },
     "execution_count": 95,
     "metadata": {},
     "output_type": "execute_result"
    }
   ],
   "source": [
    "df_popularity.describe()"
   ]
  },
  {
   "cell_type": "code",
   "execution_count": 96,
   "metadata": {},
   "outputs": [
    {
     "data": {
      "image/png": "[encoded data removed]",
      "text/plain": [
       "<Figure size 432x288 with 1 Axes>"
      ]
     },
     "metadata": {
      "needs_background": "light"
     },
     "output_type": "display_data"
    }
   ],
   "source": [
    "_ = df_popularity['display_text_length'].hist(bins=10)\n",
    "_ = plt.title('Display Text Length Histogram')\n",
    "_ = plt.xlabel('display_text_length')\n",
    "_ = plt.ylabel('count')\n",
    "\n",
    "if os.path.isfile('Visualizations/Display_Text_Length_Histogram.png') is False:\n",
    "    _ = plt.savefig('Visualizations/Display_Text_Length_Histogram.png', bbox_inches='tight', facecolor='white')"
   ]
  },
  {
   "cell_type": "markdown",
   "metadata": {},
   "source": [
    "We see that there is a higher proportion of texts with a length of 80 or greater."
   ]
  },
  {
   "cell_type": "code",
   "execution_count": 97,
   "metadata": {},
   "outputs": [
    {
     "data": {
      "image/png": "[encoded data removed]",
      "text/plain": [
       "<Figure size 432x288 with 1 Axes>"
      ]
     },
     "metadata": {
      "needs_background": "light"
     },
     "output_type": "display_data"
    }
   ],
   "source": [
    "_ = df_popularity['retweets_plus_favorites'].hist(bins=10)\n",
    "_ = plt.title('Retweets Plus Favorites Histogram')\n",
    "_ = plt.xlabel('retweets_plus_favorites')\n",
    "_ = plt.ylabel('count')\n",
    "\n",
    "if os.path.isfile('Visualizations/Retweets_Plus_Favorites_Histogram.png') is False:\n",
    "    _ = plt.savefig('Visualizations/Retweets_Plus_Favorites_Histogram.png', bbox_inches='tight', facecolor='white')"
   ]
  },
  {
   "cell_type": "markdown",
   "metadata": {},
   "source": [
    "From the above histogram, we see that most tweets simply won't go viral."
   ]
  },
  {
   "cell_type": "code",
   "execution_count": 98,
   "metadata": {},
   "outputs": [
    {
     "data": {
      "image/png": "[encoded data removed]",
      "text/plain": [
       "<Figure size 432x288 with 1 Axes>"
      ]
     },
     "metadata": {
      "needs_background": "light"
     },
     "output_type": "display_data"
    }
   ],
   "source": [
    "sns.scatterplot(data=df_popularity, x='display_text_length', y='retweets_plus_favorites', alpha=0.5)\n",
    "_ = plt.title('Scatter Plot of Display Text Length vs Retweets Plus Favorites')\n",
    "\n",
    "if os.path.isfile('Visualizations/Scatter_Plot_of_Display_Text_Length_vs_Retweets_Plus_Favorites.png') is False:\n",
    "    _ = plt.savefig('Visualizations/Scatter_Plot_of_Display_Text_Length_vs_Retweets_Plus_Favorites.png', bbox_inches='tight', facecolor='white')"
   ]
  },
  {
   "cell_type": "code",
   "execution_count": 99,
   "metadata": {},
   "outputs": [
    {
     "data": {
      "text/html": [
       "<div>\n",
       "<style scoped>\n",
       "    .dataframe tbody tr th:only-of-type {\n",
       "        vertical-align: middle;\n",
       "    }\n",
       "\n",
       "    .dataframe tbody tr th {\n",
       "        vertical-align: top;\n",
       "    }\n",
       "\n",
       "    .dataframe thead th {\n",
       "        text-align: right;\n",
       "    }\n",
       "</style>\n",
       "<table border=\"1\" class=\"dataframe\">\n",
       "  <thead>\n",
       "    <tr style=\"text-align: right;\">\n",
       "      <th></th>\n",
       "      <th>display_text_length</th>\n",
       "      <th>retweets_plus_favorites</th>\n",
       "    </tr>\n",
       "  </thead>\n",
       "  <tbody>\n",
       "    <tr>\n",
       "      <th>display_text_length</th>\n",
       "      <td>1.000000</td>\n",
       "      <td>-0.081535</td>\n",
       "    </tr>\n",
       "    <tr>\n",
       "      <th>retweets_plus_favorites</th>\n",
       "      <td>-0.081535</td>\n",
       "      <td>1.000000</td>\n",
       "    </tr>\n",
       "  </tbody>\n",
       "</table>\n",
       "</div>"
      ],
      "text/plain": [
       "                         display_text_length  retweets_plus_favorites\n",
       "display_text_length                 1.000000                -0.081535\n",
       "retweets_plus_favorites            -0.081535                 1.000000"
      ]
     },
     "execution_count": 99,
     "metadata": {},
     "output_type": "execute_result"
    }
   ],
   "source": [
    "df_popularity.corr()"
   ]
  },
  {
   "cell_type": "markdown",
   "metadata": {},
   "source": [
    "From the scatter plot and correlation values, we see that display text length hardly affects the popularity of the tweets."
   ]
  }
 ],
 "metadata": {
  "extensions": {
   "jupyter_dashboards": {
    "activeView": "report_default",
    "version": 1,
    "views": {
     "grid_default": {
      "cellMargin": 10,
      "defaultCellHeight": 20,
      "maxColumns": 12,
      "name": "grid",
      "type": "grid"
     },
     "report_default": {
      "name": "report",
      "type": "report"
     }
    }
   }
  },
  "kernelspec": {
   "display_name": "Python 3 (ipykernel)",
   "language": "python",
   "name": "python3"
  },
  "language_info": {
   "codemirror_mode": {
    "name": "ipython",
    "version": 3
   },
   "file_extension": ".py",
   "mimetype": "text/x-python",
   "name": "python",
   "nbconvert_exporter": "python",
   "pygments_lexer": "ipython3",
   "version": "3.8.12"
  }
 },
 "nbformat": 4,
 "nbformat_minor": 2
}
